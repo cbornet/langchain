{
 "cells": [
  {
   "cell_type": "raw",
   "id": "ee14951b",
   "metadata": {
    "id": "ee14951b",
    "vscode": {
     "languageId": "raw"
    }
   },
   "source": [
    "---\n",
    "sidebar_position: 1\n",
    "---"
   ]
  },
  {
   "cell_type": "markdown",
   "id": "105cddce",
   "metadata": {
    "id": "105cddce"
   },
   "source": [
    "# How to add links to Document\n",
    "\n",
    "Graph vector stores allow documents to be connected in different ways, allowing different types of relationships between documents to be used in retrieval.\n",
    "\n",
    "Several common types of relationships can be defined automatically, but in some cases you may want to create custom links. In this example we'll see how to create links directly.\n",
    "\n",
    "In this guide we will cover:\n",
    "\n",
    "1. How document links work;\n",
    "2. How to create links;\n",
    "3. How to extend a document with links;\n",
    "\n",
    "## How document links work\n",
    "\n",
    "Documents in a graph vector store are connected via \"links\". Links form a bipartite graph between documents and tags: documents are connected to tags, and tags are connected to other documents. When documents are retrieved from a graph vector store, a pair of documents are connected with a depth of one if both documents are connected to the same tag.\n",
    "\n",
    "Links have a \"kind\", used to namespace different tag identifiers. For example a link to a keyword might use kind `kw`, while a link to a URL might use kind `url`. This allows the same tag value to be used in different contexts without causing name collisions.\n",
    "\n",
    "Links are directed - the directionality of links controls how the graph is traversed at retrieval time. For example, given documents A and B, connected by links to tag T:\n",
    "\n",
    "| A to T | B to T | Result |\n",
    "|--------|--------|--------|\n",
    "| outgoing | incoming | Retrieval traverses from A to B |\n",
    "| incoming | incoming | No traversal from A to B |\n",
    "| outgoing | outgoing | No traversal from A to B |\n",
    "| incoming | outgoing | No traversal from A to B |\n",
    "| bidir | incoming | Retrieval traverses from A to B |\n",
    "| bidir | outgoing | No traversal from A to B |\n",
    "| outgoing | bidir | Retrieval traverses from A to B |\n",
    "| incoming | bidir | No traversal from A to B |\n",
    "\n",
    "Directed links make it possible to describe relationships such as term references / definitions: term definitions are generally relevant to any documents that use the term, but the full set of documents using a term generally aren't relevant to the term's definition.\n",
    "\n",
    "## Preliminary"
   ]
  },
  {
   "cell_type": "code",
   "execution_count": null,
   "id": "KhbAm0zrubtx",
   "metadata": {
    "colab": {
     "base_uri": "https://localhost:8080/"
    },
    "id": "KhbAm0zrubtx",
    "outputId": "e2b04c74-a485-41cc-eab1-8b3d31830924"
   },
   "outputs": [],
   "source": [
    "%pip install -q langchain_community"
   ]
  },
  {
   "cell_type": "markdown",
   "id": "1tPHtr4nulIB",
   "metadata": {
    "id": "1tPHtr4nulIB"
   },
   "source": [
    "## How to create links\n",
    "\n",
    "You can create links using the [Link](https://api.python.langchain.com/en/latest/graph_vectorstores/langchain_core.graph_vectorstores.links.Link.html) class's constructors [.bidir](https://api.python.langchain.com/en/latest/graph_vectorstores/langchain_core.graph_vectorstores.links.Link.html#langchain_core.graph_vectorstores.links.Link.bidir), [.incoming](https://api.python.langchain.com/en/latest/graph_vectorstores/langchain_core.graph_vectorstores.links.Link.html#langchain_core.graph_vectorstores.links.Link.incoming), and [.outgoing](https://api.python.langchain.com/en/latest/graph_vectorstores/langchain_core.graph_vectorstores.links.Link.html#langchain_core.graph_vectorstores.links.Link.outgoing)."
   ]
  },
  {
   "cell_type": "code",
   "execution_count": 4,
   "id": "3ce3291c",
   "metadata": {
    "colab": {
     "base_uri": "https://localhost:8080/"
    },
    "id": "3ce3291c",
    "outputId": "ed93b6d4-609f-4d60-cb7f-6a63d3b8bb92"
   },
   "outputs": [
    {
     "data": {
      "text/plain": [
       "Link(kind='location', direction='bidir', tag='Paris')"
      ]
     },
     "execution_count": 4,
     "metadata": {},
     "output_type": "execute_result"
    }
   ],
   "source": [
    "from langchain_core.graph_vectorstores.links import Link\n",
    "\n",
    "link = Link.bidir(kind=\"location\", tag=\"Paris\")\n",
    "link"
   ]
  },
  {
   "cell_type": "markdown",
   "id": "e42286a7",
   "metadata": {
    "id": "e42286a7"
   },
   "source": [
    "## Extending documents with links\n",
    "\n",
    "Now that we know how to create links, let's associate them with some documents. These edges will strengthen the connection between documents that share a keyword when using a graph vector store to retrieve documents.\n",
    "\n",
    "First, we'll load some text and chunk it into smaller pieces.\n",
    "Then we'll add a link to each document to link them all together."
   ]
  },
  {
   "cell_type": "code",
   "execution_count": 7,
   "id": "174e3c69",
   "metadata": {
    "colab": {
     "base_uri": "https://localhost:8080/"
    },
    "id": "174e3c69",
    "outputId": "2d600b2c-fc33-44ae-e898-d1cdc94209e8"
   },
   "outputs": [
    {
     "data": {
      "text/plain": [
       "Document(metadata={'source': 'state_of_the_union.txt', 'links': [Link(kind='genre', direction='bidir', tag='oratory')]}, page_content='Madam Speaker, Madam Vice President, our First Lady and Second Gentleman. Members of Congress and the Cabinet. Justices of the Supreme Court. My fellow Americans.  \\n\\nLast year COVID-19 kept us apart. This year we are finally together again. \\n\\nTonight, we meet as Democrats Republicans and Independents. But most importantly as Americans. \\n\\nWith a duty to one another to the American people to the Constitution. \\n\\nAnd with an unwavering resolve that freedom will always triumph over tyranny. \\n\\nSix days ago, Russia’s Vladimir Putin sought to shake the foundations of the free world thinking he could make it bend to his menacing ways. But he badly miscalculated. \\n\\nHe thought he could roll into Ukraine and the world would roll over. Instead he met a wall of strength he never imagined. \\n\\nHe met the Ukrainian people. \\n\\nFrom President Zelenskyy to every Ukrainian, their fearlessness, their courage, their determination, inspires the world.')"
      ]
     },
     "execution_count": 7,
     "metadata": {},
     "output_type": "execute_result"
    }
   ],
   "source": [
    "from langchain_community.document_loaders import TextLoader\n",
    "from langchain_core.graph_vectorstores.links import add_links\n",
    "from langchain_text_splitters import CharacterTextSplitter\n",
    "\n",
    "loader = TextLoader(\"state_of_the_union.txt\")\n",
    "\n",
    "raw_documents = loader.load()\n",
    "text_splitter = CharacterTextSplitter(chunk_size=1000, chunk_overlap=0)\n",
    "documents = text_splitter.split_documents(raw_documents)\n",
    "\n",
    "for doc in documents:\n",
    "    add_links(doc, Link.bidir(kind=\"genre\", tag=\"oratory\"))\n",
    "\n",
    "documents[0]"
   ]
  },
  {
   "cell_type": "markdown",
   "id": "5cc11739",
   "metadata": {
    "id": "5cc11739"
   },
   "source": [
    "As you can see, each document's metadata now includes a bidirectional link to the genre \"oratory\".\n",
    "\n",
    "The documents can then be added to a graph vector store:"
   ]
  },
  {
   "cell_type": "code",
   "execution_count": null,
   "id": "4fc96631",
   "metadata": {
    "id": "4fc96631"
   },
   "outputs": [],
   "source": [
    "from langchain_community.graph_vectorstores import CassandraGraphVectorStore\n",
    "\n",
    "graph_vectorstore = CassandraGraphVectorStore.from_documents(\n",
    "    documents=documents, embeddings=...\n",
    ")"
   ]
  }
 ],
 "metadata": {
  "colab": {
   "provenance": []
  },
  "kernelspec": {
   "display_name": "Python 3 (ipykernel)",
   "language": "python",
   "name": "python3"
  },
  "language_info": {
   "codemirror_mode": {
    "name": "ipython",
    "version": 3
   },
   "file_extension": ".py",
   "mimetype": "text/x-python",
   "name": "python",
   "nbconvert_exporter": "python",
   "pygments_lexer": "ipython3",
   "version": "3.10.4"
  }
 },
 "nbformat": 4,
 "nbformat_minor": 5
}
