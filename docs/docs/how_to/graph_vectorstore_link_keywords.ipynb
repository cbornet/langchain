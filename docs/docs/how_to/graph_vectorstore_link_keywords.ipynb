{
 "cells": [
  {
   "cell_type": "markdown",
   "id": "105cddce",
   "metadata": {
    "id": "105cddce"
   },
   "source": [
    "# How to link Documents on common keywords (using Keybert)\n",
    "\n",
    "[KeyBERT](https://maartengr.github.io/KeyBERT/) is a minimal and easy-to-use keyword extraction technique that leverages BERT embeddings to create keywords and keyphrases that are most similar to a document.\n",
    "\n",
    "The `KeybertLinkExtractor` uses KeyBERT to create links between documents that have keywords in common.\n",
    "\n",
    "## Preliminaries\n",
    "\n",
    "Install the keybert package:"
   ]
  },
  {
   "cell_type": "code",
   "execution_count": null,
   "id": "uhSOaTs1Z371",
   "metadata": {
    "colab": {
     "base_uri": "https://localhost:8080/"
    },
    "id": "uhSOaTs1Z371",
    "outputId": "c58e69d5-6ed2-476b-aa35-5598a443b014"
   },
   "outputs": [],
   "source": [
    "%pip install -q langchain_community keybert"
   ]
  },
  {
   "cell_type": "markdown",
   "id": "ZsJgwVfocJYB",
   "metadata": {
    "id": "ZsJgwVfocJYB"
   },
   "source": [
    "## Usage\n",
    "\n",
    "We load the `state_of_the_union.txt` file, chunk it, then for each chunk we extract keyword links and add them to the chunk.\n",
    "\n",
    "### Using extract_one()"
   ]
  },
  {
   "cell_type": "code",
   "execution_count": 4,
   "id": "174e3c69",
   "metadata": {
    "colab": {
     "base_uri": "https://localhost:8080/"
    },
    "id": "174e3c69",
    "outputId": "7e2af4e1-aa7c-44b5-841e-1209021d324b"
   },
   "outputs": [
    {
     "data": {
      "text/plain": [
       "Document(metadata={'source': 'state_of_the_union.txt', 'links': [Link(kind='kw', direction='bidir', tag='ukraine'), Link(kind='kw', direction='bidir', tag='ukrainian'), Link(kind='kw', direction='bidir', tag='putin'), Link(kind='kw', direction='bidir', tag='vladimir'), Link(kind='kw', direction='bidir', tag='russia')]}, page_content='Madam Speaker, Madam Vice President, our First Lady and Second Gentleman. Members of Congress and the Cabinet. Justices of the Supreme Court. My fellow Americans.  \\n\\nLast year COVID-19 kept us apart. This year we are finally together again. \\n\\nTonight, we meet as Democrats Republicans and Independents. But most importantly as Americans. \\n\\nWith a duty to one another to the American people to the Constitution. \\n\\nAnd with an unwavering resolve that freedom will always triumph over tyranny. \\n\\nSix days ago, Russia’s Vladimir Putin sought to shake the foundations of the free world thinking he could make it bend to his menacing ways. But he badly miscalculated. \\n\\nHe thought he could roll into Ukraine and the world would roll over. Instead he met a wall of strength he never imagined. \\n\\nHe met the Ukrainian people. \\n\\nFrom President Zelenskyy to every Ukrainian, their fearlessness, their courage, their determination, inspires the world.')"
      ]
     },
     "execution_count": 4,
     "metadata": {},
     "output_type": "execute_result"
    }
   ],
   "source": [
    "from langchain_community.document_loaders import TextLoader\n",
    "from langchain_community.graph_vectorstores import CassandraGraphVectorStore\n",
    "from langchain_community.graph_vectorstores.extractors import KeybertLinkExtractor\n",
    "from langchain_core.graph_vectorstores.links import add_links\n",
    "from langchain_text_splitters import CharacterTextSplitter\n",
    "\n",
    "loader = TextLoader(\"state_of_the_union.txt\")\n",
    "\n",
    "raw_documents = loader.load()\n",
    "text_splitter = CharacterTextSplitter(chunk_size=1000, chunk_overlap=0)\n",
    "documents = text_splitter.split_documents(raw_documents)\n",
    "keyword_extractor = KeybertLinkExtractor()\n",
    "\n",
    "for document in documents:\n",
    "    links = keyword_extractor.extract_one(document)\n",
    "    add_links(document, links)\n",
    "\n",
    "documents[0]"
   ]
  },
  {
   "cell_type": "markdown",
   "id": "v70HO5oAqJ5G",
   "metadata": {
    "id": "v70HO5oAqJ5G"
   },
   "source": [
    "### Using LinkExtractorTransformer\n",
    "\n",
    "Using the `LinkExtractorTransformer`, we can simplify the link extraction:"
   ]
  },
  {
   "cell_type": "code",
   "execution_count": 7,
   "id": "pjtKJoUVqALX",
   "metadata": {
    "colab": {
     "base_uri": "https://localhost:8080/"
    },
    "id": "pjtKJoUVqALX",
    "outputId": "602ea4db-e15d-411d-e957-01edba20d520"
   },
   "outputs": [
    {
     "data": {
      "text/plain": [
       "Document(metadata={'source': 'state_of_the_union.txt', 'links': [Link(kind='kw', direction='bidir', tag='ukrainian'), Link(kind='kw', direction='bidir', tag='putin'), Link(kind='kw', direction='bidir', tag='ukraine'), Link(kind='kw', direction='bidir', tag='russia'), Link(kind='kw', direction='bidir', tag='vladimir')]}, page_content='Madam Speaker, Madam Vice President, our First Lady and Second Gentleman. Members of Congress and the Cabinet. Justices of the Supreme Court. My fellow Americans.  \\n\\nLast year COVID-19 kept us apart. This year we are finally together again. \\n\\nTonight, we meet as Democrats Republicans and Independents. But most importantly as Americans. \\n\\nWith a duty to one another to the American people to the Constitution. \\n\\nAnd with an unwavering resolve that freedom will always triumph over tyranny. \\n\\nSix days ago, Russia’s Vladimir Putin sought to shake the foundations of the free world thinking he could make it bend to his menacing ways. But he badly miscalculated. \\n\\nHe thought he could roll into Ukraine and the world would roll over. Instead he met a wall of strength he never imagined. \\n\\nHe met the Ukrainian people. \\n\\nFrom President Zelenskyy to every Ukrainian, their fearlessness, their courage, their determination, inspires the world.')"
      ]
     },
     "execution_count": 7,
     "metadata": {},
     "output_type": "execute_result"
    }
   ],
   "source": [
    "from langchain_community.document_loaders import TextLoader\n",
    "from langchain_community.graph_vectorstores.extractors import (\n",
    "    KeybertLinkExtractor,\n",
    "    LinkExtractorTransformer,\n",
    ")\n",
    "from langchain_text_splitters import CharacterTextSplitter\n",
    "\n",
    "loader = TextLoader(\"state_of_the_union.txt\")\n",
    "raw_documents = loader.load()\n",
    "text_splitter = CharacterTextSplitter(chunk_size=1000, chunk_overlap=0)\n",
    "documents = text_splitter.split_documents(raw_documents)\n",
    "transformer = LinkExtractorTransformer([KeybertLinkExtractor()])\n",
    "documents = transformer.transform_documents(documents)\n",
    "\n",
    "documents[0]"
   ]
  },
  {
   "cell_type": "markdown",
   "id": "JAD2v7irc13y",
   "metadata": {
    "id": "JAD2v7irc13y"
   },
   "source": [
    "The documents with keyword links can then be added to a `GraphVectorStore`."
   ]
  },
  {
   "cell_type": "code",
   "execution_count": null,
   "id": "Kby6qxILdHmb",
   "metadata": {
    "id": "Kby6qxILdHmb"
   },
   "outputs": [],
   "source": [
    "from langchain_community.graph_vectorstores import CassandraGraphVectorStore\n",
    "\n",
    "store = CassandraGraphVectorStore.from_documents(documents=documents, embedding=...)"
   ]
  }
 ],
 "metadata": {
  "colab": {
   "provenance": []
  },
  "kernelspec": {
   "display_name": "Python 3 (ipykernel)",
   "language": "python",
   "name": "python3"
  },
  "language_info": {
   "codemirror_mode": {
    "name": "ipython",
    "version": 3
   },
   "file_extension": ".py",
   "mimetype": "text/x-python",
   "name": "python",
   "nbconvert_exporter": "python",
   "pygments_lexer": "ipython3",
   "version": "3.10.4"
  }
 },
 "nbformat": 4,
 "nbformat_minor": 5
}
