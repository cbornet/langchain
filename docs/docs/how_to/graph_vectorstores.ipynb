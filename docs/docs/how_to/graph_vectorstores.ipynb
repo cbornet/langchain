{
 "nbformat": 4,
 "nbformat_minor": 0,
 "metadata": {
  "colab": {
   "provenance": []
  },
  "kernelspec": {
   "name": "python3",
   "display_name": "Python 3"
  },
  "language_info": {
   "name": "python"
  }
 },
 "cells": [
  {
   "cell_type": "markdown",
   "source": [
    "# How to use a graph vector store to retrieve data\n",
    "\n",
    "Graph vector stores are a special type of vector store that store links between documents as well together with the documents.\n",
    "The Graph vector stores retrieval methods can be used to retrieve documents based on similarity to a query and the links between the documents.\n",
    "\n",
    "## Get started\n",
    "\n",
    "For this guide, the following packages are needed:"
   ],
   "metadata": {
    "collapsed": false,
    "id": "UibqDCSfg1rA"
   }
  },
  {
   "cell_type": "code",
   "outputs": [],
   "source": [
    "%pip install langchain-community langchain-openai python-dotenv ragstack-ai-knowledge-store keybert"
   ],
   "metadata": {
    "collapsed": false
   }
  },
  {
   "cell_type": "markdown",
   "source": [
    "We'll use the Cassandra graph vector store implementation with a DataStax Astra DB database.\n",
    "For this, you'll need to create a free Astra DB account and get your Database ID and token.\n",
    "\n",
    "The store also needs an embedding model.\n",
    "We'll use the OpenAI embedding model so you need to create an OpenAI account and get your OpenAI API key."
   ],
   "metadata": {
    "collapsed": false,
    "id": "CYCA9_Dsg1rC"
   }
  },
  {
   "cell_type": "code",
   "outputs": [],
   "source": [
    "import getpass\n",
    "import os\n",
    "from dotenv import load_dotenv\n",
    "\n",
    "load_dotenv()\n",
    "\n",
    "if \"OPENAI_API_KEY\" not in os.environ:\n",
    "    os.environ[\"OPENAI_API_KEY\"] = getpass.getpass(\"Enter OpenAI API Key: \")\n",
    "\n",
    "if \"ASTRA_DB_DATABASE_ID\" not in os.environ:\n",
    "    os.environ[\"ASTRA_DB_DATABASE_ID\"] = input(\"Enter Astra DB Database ID: \")\n",
    "\n",
    "if \"ASTRA_DB_APPLICATION_TOKEN\" not in os.environ:\n",
    "    os.environ[\"ASTRA_DB_APPLICATION_TOKEN\"] = getpass.getpass(\n",
    "        \"Enter Astra DB Application Token: \"\n",
    ")\n",
    "\n",
    "if \"ASTRA_DB_KEYSPACE\" not in os.environ:\n",
    "    keyspace = input(\"Enter Astra DB Keyspace (Empty for default): \")\n",
    "    if keyspace:\n",
    "        os.environ[\"ASTRA_DB_KEYSPACE\"] = keyspace"
   ],
   "metadata": {
    "colab": {
     "base_uri": "https://localhost:8080/"
    },
    "id": "YZ34zhGbg1rD",
    "outputId": "e9c491a9-67ab-4992-e3da-9df63f53d635"
   },
   "execution_count": null
  },
  {
   "cell_type": "markdown",
   "source": [
    "We chunk the State of the Union text and split it into documents."
   ],
   "metadata": {
    "collapsed": false,
    "id": "_1vHzCoYg1rE"
   }
  },
  {
   "cell_type": "code",
   "source": [
    "from langchain_community.document_loaders import TextLoader\n",
    "from langchain_text_splitters import CharacterTextSplitter\n",
    "\n",
    "raw_documents = TextLoader('state_of_the_union.txt').load()\n",
    "text_splitter = CharacterTextSplitter(chunk_size=1000, chunk_overlap=0)\n",
    "documents = text_splitter.split_documents(raw_documents)"
   ],
   "metadata": {
    "id": "s9QiTXoZN-wp"
   },
   "execution_count": 11,
   "outputs": []
  },
  {
   "cell_type": "markdown",
   "source": [
    "Links can be added to documents manually but it's easier to use a link extractor.\n",
    "Several usual link extractors are available and you can build your own.\n",
    "For this guide, we'll use the `KeybertLinkExtractor` which uses the KeyBERT model to tag documents with keywords and creates links between documents that have the same keywords."
   ],
   "metadata": {
    "collapsed": false,
    "id": "vV8O-CaSg1rE"
   }
  },
  {
   "cell_type": "code",
   "source": [
    "from langchain_community.graph_vectorstores.extractors import KeybertLinkExtractor\n",
    "from langchain_core.graph_vectorstores.links import add_links\n",
    "\n",
    "extractor = KeybertLinkExtractor()\n",
    "\n",
    "for doc in documents:\n",
    "  add_links(doc, extractor.extract_one(doc))\n",
    "\n",
    "documents[:10]"
   ],
   "metadata": {
    "colab": {
     "base_uri": "https://localhost:8080/"
    },
    "id": "0v7CHne0O1TN",
    "outputId": "083a26f4-9b52-4ead-96cc-620a05595cf8"
   },
   "execution_count": 12,
   "outputs": [
    {
     "output_type": "execute_result",
     "data": {
      "text/plain": [
       "[Document(metadata={'source': 'state_of_the_union.txt', 'links': [Link(kind='kw', direction='bidir', tag='russia'), Link(kind='kw', direction='bidir', tag='putin'), Link(kind='kw', direction='bidir', tag='ukraine'), Link(kind='kw', direction='bidir', tag='ukrainian'), Link(kind='kw', direction='bidir', tag='vladimir')]}, page_content='Madam Speaker, Madam Vice President, our First Lady and Second Gentleman. Members of Congress and the Cabinet. Justices of the Supreme Court. My fellow Americans.  \\n\\nLast year COVID-19 kept us apart. This year we are finally together again. \\n\\nTonight, we meet as Democrats Republicans and Independents. But most importantly as Americans. \\n\\nWith a duty to one another to the American people to the Constitution. \\n\\nAnd with an unwavering resolve that freedom will always triumph over tyranny. \\n\\nSix days ago, Russia’s Vladimir Putin sought to shake the foundations of the free world thinking he could make it bend to his menacing ways. But he badly miscalculated. \\n\\nHe thought he could roll into Ukraine and the world would roll over. Instead he met a wall of strength he never imagined. \\n\\nHe met the Ukrainian people. \\n\\nFrom President Zelenskyy to every Ukrainian, their fearlessness, their courage, their determination, inspires the world.'),\n",
       " Document(metadata={'source': 'state_of_the_union.txt', 'links': [Link(kind='kw', direction='bidir', tag='diplomacy'), Link(kind='kw', direction='bidir', tag='ukraine'), Link(kind='kw', direction='bidir', tag='nato'), Link(kind='kw', direction='bidir', tag='tanks'), Link(kind='kw', direction='bidir', tag='ukrainian')]}, page_content='Groups of citizens blocking tanks with their bodies. Everyone from students to retirees teachers turned soldiers defending their homeland. \\n\\nIn this struggle as President Zelenskyy said in his speech to the European Parliament “Light will win over darkness.” The Ukrainian Ambassador to the United States is here tonight. \\n\\nLet each of us here tonight in this Chamber send an unmistakable signal to Ukraine and to the world. \\n\\nPlease rise if you are able and show that, Yes, we the United States of America stand with the Ukrainian people. \\n\\nThroughout our history we’ve learned this lesson when dictators do not pay a price for their aggression they cause more chaos.   \\n\\nThey keep moving.   \\n\\nAnd the costs and the threats to America and the world keep rising.   \\n\\nThat’s why the NATO Alliance was created to secure peace and stability in Europe after World War 2. \\n\\nThe United States is a member along with 29 other nations. \\n\\nIt matters. American diplomacy matters. American resolve matters.'),\n",
       " Document(metadata={'source': 'state_of_the_union.txt', 'links': [Link(kind='kw', direction='bidir', tag='allies'), Link(kind='kw', direction='bidir', tag='russia'), Link(kind='kw', direction='bidir', tag='putin'), Link(kind='kw', direction='bidir', tag='ukraine'), Link(kind='kw', direction='bidir', tag='nato')]}, page_content='Putin’s latest attack on Ukraine was premeditated and unprovoked. \\n\\nHe rejected repeated efforts at diplomacy. \\n\\nHe thought the West and NATO wouldn’t respond. And he thought he could divide us at home. Putin was wrong. We were ready.  Here is what we did.   \\n\\nWe prepared extensively and carefully. \\n\\nWe spent months building a coalition of other freedom-loving nations from Europe and the Americas to Asia and Africa to confront Putin. \\n\\nI spent countless hours unifying our European allies. We shared with the world in advance what we knew Putin was planning and precisely how he would try to falsely justify his aggression.  \\n\\nWe countered Russia’s lies with truth.   \\n\\nAnd now that he has acted the free world is holding him accountable. \\n\\nAlong with twenty-seven members of the European Union including France, Germany, Italy, as well as countries like the United Kingdom, Canada, Japan, Korea, Australia, New Zealand, and many others, even Switzerland.'),\n",
       " Document(metadata={'source': 'state_of_the_union.txt', 'links': [Link(kind='kw', direction='bidir', tag='sanctions'), Link(kind='kw', direction='bidir', tag='putin'), Link(kind='kw', direction='bidir', tag='russian'), Link(kind='kw', direction='bidir', tag='oligarchs'), Link(kind='kw', direction='bidir', tag='ukraine')]}, page_content='We are inflicting pain on Russia and supporting the people of Ukraine. Putin is now isolated from the world more than ever. \\n\\nTogether with our allies –we are right now enforcing powerful economic sanctions. \\n\\nWe are cutting off Russia’s largest banks from the international financial system.  \\n\\nPreventing Russia’s central bank from defending the Russian Ruble making Putin’s $630 Billion “war fund” worthless.   \\n\\nWe are choking off Russia’s access to technology that will sap its economic strength and weaken its military for years to come.  \\n\\nTonight I say to the Russian oligarchs and corrupt leaders who have bilked billions of dollars off this violent regime no more. \\n\\nThe U.S. Department of Justice is assembling a dedicated task force to go after the crimes of Russian oligarchs.  \\n\\nWe are joining with our European allies to find and seize your yachts your luxury apartments your private jets. We are coming for your ill-begotten gains.'),\n",
       " Document(metadata={'source': 'state_of_the_union.txt', 'links': [Link(kind='kw', direction='bidir', tag='allies'), Link(kind='kw', direction='bidir', tag='ukrainians'), Link(kind='kw', direction='bidir', tag='ukraine'), Link(kind='kw', direction='bidir', tag='nato'), Link(kind='kw', direction='bidir', tag='ukrainian')]}, page_content='And tonight I am announcing that we will join our allies in closing off American air space to all Russian flights – further isolating Russia – and adding an additional squeeze –on their economy. The Ruble has lost 30% of its value. \\n\\nThe Russian stock market has lost 40% of its value and trading remains suspended. Russia’s economy is reeling and Putin alone is to blame. \\n\\nTogether with our allies we are providing support to the Ukrainians in their fight for freedom. Military assistance. Economic assistance. Humanitarian assistance. \\n\\nWe are giving more than $1 Billion in direct assistance to Ukraine. \\n\\nAnd we will continue to aid the Ukrainian people as they defend their country and to help ease their suffering.  \\n\\nLet me be clear, our forces are not engaged and will not engage in conflict with Russian forces in Ukraine.  \\n\\nOur forces are not going to Europe to fight in Ukraine, but to defend our NATO Allies – in the event that Putin decides to keep moving west.'),\n",
       " Document(metadata={'source': 'state_of_the_union.txt', 'links': [Link(kind='kw', direction='bidir', tag='ukrainians'), Link(kind='kw', direction='bidir', tag='putin'), Link(kind='kw', direction='bidir', tag='lithuania'), Link(kind='kw', direction='bidir', tag='nato'), Link(kind='kw', direction='bidir', tag='ukrainian')]}, page_content='For that purpose we’ve mobilized American ground forces, air squadrons, and ship deployments to protect NATO countries including Poland, Romania, Latvia, Lithuania, and Estonia. \\n\\nAs I have made crystal clear the United States and our Allies will defend every inch of territory of NATO countries with the full force of our collective power.  \\n\\nAnd we remain clear-eyed. The Ukrainians are fighting back with pure courage. But the next few days weeks, months, will be hard on them.  \\n\\nPutin has unleashed violence and chaos.  But while he may make gains on the battlefield – he will pay a continuing high price over the long run. \\n\\nAnd a proud Ukrainian people, who have known 30 years  of independence, have repeatedly shown that they will not tolerate anyone who tries to take their country backwards.  \\n\\nTo all Americans, I will be honest with you, as I’ve always promised. A Russian dictator, invading a foreign country, has costs around the world.'),\n",
       " Document(metadata={'source': 'state_of_the_union.txt', 'links': [Link(kind='kw', direction='bidir', tag='sanctions'), Link(kind='kw', direction='bidir', tag='strategic'), Link(kind='kw', direction='bidir', tag='putin'), Link(kind='kw', direction='bidir', tag='petroleum'), Link(kind='kw', direction='bidir', tag='oil')]}, page_content='And I’m taking robust action to make sure the pain of our sanctions  is targeted at Russia’s economy. And I will use every tool at our disposal to protect American businesses and consumers. \\n\\nTonight, I can announce that the United States has worked with 30 other countries to release 60 Million barrels of oil from reserves around the world.  \\n\\nAmerica will lead that effort, releasing 30 Million barrels from our own Strategic Petroleum Reserve. And we stand ready to do more if necessary, unified with our allies.  \\n\\nThese steps will help blunt gas prices here at home. And I know the news about what’s happening can seem alarming. \\n\\nBut I want you to know that we are going to be okay. \\n\\nWhen the history of this era is written Putin’s war on Ukraine will have left Russia weaker and the rest of the world stronger. \\n\\nWhile it shouldn’t have taken something so terrible for people around the world to see what’s at stake now everyone sees it clearly.'),\n",
       " Document(metadata={'source': 'state_of_the_union.txt', 'links': [Link(kind='kw', direction='bidir', tag='putin'), Link(kind='kw', direction='bidir', tag='ukraine'), Link(kind='kw', direction='bidir', tag='ukrainian'), Link(kind='kw', direction='bidir', tag='kyiv'), Link(kind='kw', direction='bidir', tag='democracies')]}, page_content='We see the unity among leaders of nations and a more unified Europe a more unified West. And we see unity among the people who are gathering in cities in large crowds around the world even in Russia to demonstrate their support for Ukraine.  \\n\\nIn the battle between democracy and autocracy, democracies are rising to the moment, and the world is clearly choosing the side of peace and security. \\n\\nThis is a real test. It’s going to take time. So let us continue to draw inspiration from the iron will of the Ukrainian people. \\n\\nTo our fellow Ukrainian Americans who forge a deep bond that connects our two nations we stand with you. \\n\\nPutin may circle Kyiv with tanks, but he will never gain the hearts and souls of the Ukrainian people. \\n\\nHe will never extinguish their love of freedom. He will never weaken the resolve of the free world. \\n\\nWe meet tonight in an America that has lived through two of the hardest years this nation has ever faced. \\n\\nThe pandemic has been punishing.'),\n",
       " Document(metadata={'source': 'state_of_the_union.txt', 'links': [Link(kind='kw', direction='bidir', tag='health'), Link(kind='kw', direction='bidir', tag='covid'), Link(kind='kw', direction='bidir', tag='efforts'), Link(kind='kw', direction='bidir', tag='crisis'), Link(kind='kw', direction='bidir', tag='rescue')]}, page_content='And so many families are living paycheck to paycheck, struggling to keep up with the rising cost of food, gas, housing, and so much more. \\n\\nI understand. \\n\\nI remember when my Dad had to leave our home in Scranton, Pennsylvania to find work. I grew up in a family where if the price of food went up, you felt it. \\n\\nThat’s why one of the first things I did as President was fight to pass the American Rescue Plan.  \\n\\nBecause people were hurting. We needed to act, and we did. \\n\\nFew pieces of legislation have done more in a critical moment in our history to lift us out of crisis. \\n\\nIt fueled our efforts to vaccinate the nation and combat COVID-19. It delivered immediate economic relief for tens of millions of Americans.  \\n\\nHelped put food on their table, keep a roof over their heads, and cut the cost of health insurance. \\n\\nAnd as my Dad used to say, it gave people a little breathing room.'),\n",
       " Document(metadata={'source': 'state_of_the_union.txt', 'links': [Link(kind='kw', direction='bidir', tag='economic'), Link(kind='kw', direction='bidir', tag='benefits'), Link(kind='kw', direction='bidir', tag='economy'), Link(kind='kw', direction='bidir', tag='trickle'), Link(kind='kw', direction='bidir', tag='deficits')]}, page_content='And unlike the $2 Trillion tax cut passed in the previous administration that benefitted the top 1% of Americans, the American Rescue Plan helped working people—and left no one behind. \\n\\nAnd it worked. It created jobs. Lots of jobs. \\n\\nIn fact—our economy created over 6.5 Million new jobs just last year, more jobs created in one year  \\nthan ever before in the history of America. \\n\\nOur economy grew at a rate of 5.7% last year, the strongest growth in nearly 40 years, the first step in bringing fundamental change to an economy that hasn’t worked for the working people of this nation for too long.  \\n\\nFor the past 40 years we were told that if we gave tax breaks to those at the very top, the benefits would trickle down to everyone else. \\n\\nBut that trickle-down theory led to weaker economic growth, lower wages, bigger deficits, and the widest gap between those at the top and everyone else in nearly a century.')]"
      ]
     },
     "metadata": {},
     "execution_count": 12
    }
   ]
  },
  {
   "cell_type": "markdown",
   "source": [
    "We use cassio to configure the connection to the database globally based on the environment variables we set previously.\n",
    "And we create a CassandraGraphVectorStore from the documents and the OpenAIEmbeddings model."
   ],
   "metadata": {
    "collapsed": false,
    "id": "MFwwT8e4g1rF"
   }
  },
  {
   "cell_type": "code",
   "source": [
    "from langchain_openai import OpenAIEmbeddings\n",
    "from langchain_community.graph_vectorstores import CassandraGraphVectorStore\n",
    "import cassio\n",
    "\n",
    "cassio.init(auto=True)\n",
    "store = CassandraGraphVectorStore.from_documents(\n",
    "    embedding=OpenAIEmbeddings(),\n",
    "    documents=documents,\n",
    ")"
   ],
   "metadata": {
    "id": "ZsG8cGZ_Q9cC",
    "colab": {
     "base_uri": "https://localhost:8080/"
    },
    "outputId": "f4f65502-8538-485c-8064-a40f877156af"
   },
   "execution_count": null,
   "outputs": []
  },
  {
   "cell_type": "markdown",
   "source": [
    "## Similarity search\n",
    "\n",
    "If we don't traverse the graph, a graph vector store behaves like a regular vector store.\n",
    "So all methods available in a vector store are also available in a graph vector store.\n",
    "The similarity search method returns documents similar to a query without considering the links between documents."
   ],
   "metadata": {
    "collapsed": false,
    "id": "4A6dXYEYg1rF"
   }
  },
  {
   "cell_type": "code",
   "source": [
    "store.similarity_search(\"What did the president say about Ketanji Brown Jackson?\")"
   ],
   "metadata": {
    "colab": {
     "base_uri": "https://localhost:8080/"
    },
    "id": "AIw2P58CVp0g",
    "outputId": "e9b57b48-3260-4e11-a8e2-f4b1fb2e4836"
   },
   "execution_count": 6,
   "outputs": [
    {
     "output_type": "execute_result",
     "data": {
      "text/plain": [
       "[Document(id='c298b649cb4009c0', metadata={'source': 'state_of_the_union.txt', 'links': [Link(kind='kw', direction='bidir', tag='breyer'), Link(kind='kw', direction='bidir', tag='appeals'), Link(kind='kw', direction='bidir', tag='senate'), Link(kind='kw', direction='bidir', tag='judge'), Link(kind='kw', direction='bidir', tag='honor')]}, page_content='Tonight. I call on the Senate to: Pass the Freedom to Vote Act. Pass the John Lewis Voting Rights Act. And while you’re at it, pass the Disclose Act so Americans can know who is funding our elections. \\n\\nTonight, I’d like to honor someone who has dedicated his life to serve this country: Justice Stephen Breyer—an Army veteran, Constitutional scholar, and retiring Justice of the United States Supreme Court. Justice Breyer, thank you for your service. \\n\\nOne of the most serious constitutional responsibilities a President has is nominating someone to serve on the United States Supreme Court. \\n\\nAnd I did that 4 days ago, when I nominated Circuit Court of Appeals Judge Ketanji Brown Jackson. One of our nation’s top legal minds, who will continue Justice Breyer’s legacy of excellence.'),\n",
       " Document(id='37a602e3153a1a13', metadata={'source': 'state_of_the_union.txt', 'links': [Link(kind='kw', direction='bidir', tag='judges'), Link(kind='kw', direction='bidir', tag='borders'), Link(kind='kw', direction='bidir', tag='appointed'), Link(kind='kw', direction='bidir', tag='justice'), Link(kind='kw', direction='bidir', tag='immigration')]}, page_content='A former top litigator in private practice. A former federal public defender. And from a family of public school educators and police officers. A consensus builder. Since she’s been nominated, she’s received a broad range of support—from the Fraternal Order of Police to former judges appointed by Democrats and Republicans. \\n\\nAnd if we are to advance liberty and justice, we need to secure the Border and fix the immigration system. \\n\\nWe can do both. At our border, we’ve installed new technology like cutting-edge scanners to better detect drug smuggling.  \\n\\nWe’ve set up joint patrols with Mexico and Guatemala to catch more human traffickers.  \\n\\nWe’re putting in place dedicated immigration judges so families fleeing persecution and violence can have their cases heard faster. \\n\\nWe’re securing commitments and supporting partners in South and Central America to host more refugees and secure their own borders.'),\n",
       " Document(id='7cd3f486a4839957', metadata={'source': 'state_of_the_union.txt', 'links': [Link(kind='kw', direction='bidir', tag='homes'), Link(kind='kw', direction='bidir', tag='raise'), Link(kind='kw', direction='bidir', tag='medicare'), Link(kind='kw', direction='bidir', tag='paycheck'), Link(kind='kw', direction='bidir', tag='nursing')]}, page_content='Tonight, I’m announcing a crackdown on these companies overcharging American businesses and consumers. \\n\\nAnd as Wall Street firms take over more nursing homes, quality in those homes has gone down and costs have gone up.  \\n\\nThat ends on my watch. \\n\\nMedicare is going to set higher standards for nursing homes and make sure your loved ones get the care they deserve and expect. \\n\\nWe’ll also cut costs and keep the economy going strong by giving workers a fair shot, provide more training and apprenticeships, hire them based on their skills not degrees. \\n\\nLet’s pass the Paycheck Fairness Act and paid leave.  \\n\\nRaise the minimum wage to $15 an hour and extend the Child Tax Credit, so no one has to raise a family in poverty. \\n\\nLet’s increase Pell Grants and increase our historic support of HBCUs, and invest in what Jill—our First Lady who teaches full-time—calls America’s best-kept secret: community colleges.'),\n",
       " Document(id='82ae06ccdc5df2a1', metadata={'source': 'state_of_the_union.txt', 'links': [Link(kind='kw', direction='bidir', tag='bipartisan'), Link(kind='kw', direction='bidir', tag='economy'), Link(kind='kw', direction='bidir', tag='harris'), Link(kind='kw', direction='bidir', tag='roads'), Link(kind='kw', direction='bidir', tag='infrastructure')]}, page_content='Vice President Harris and I ran for office with a new economic vision for America. \\n\\nInvest in America. Educate Americans. Grow the workforce. Build the economy from the bottom up  \\nand the middle out, not from the top down.  \\n\\nBecause we know that when the middle class grows, the poor have a ladder up and the wealthy do very well. \\n\\nAmerica used to have the best roads, bridges, and airports on Earth. \\n\\nNow our infrastructure is ranked 13th in the world. \\n\\nWe won’t be able to compete for the jobs of the 21st Century if we don’t fix that. \\n\\nThat’s why it was so important to pass the Bipartisan Infrastructure Law—the most sweeping investment to rebuild America in history. \\n\\nThis was a bipartisan effort, and I want to thank the members of both parties who worked to make it happen. \\n\\nWe’re done talking about infrastructure weeks. \\n\\nWe’re going to have an infrastructure decade.')]"
      ]
     },
     "metadata": {},
     "execution_count": 6
    }
   ]
  },
  {
   "cell_type": "markdown",
   "source": [
    "## Traversal search\n",
    "\n",
    "The traversal search method returns documents similar to a query considering the links between documents.\n",
    "It first does a similarity search and then traverses the graph to find linked documents."
   ],
   "metadata": {
    "collapsed": false,
    "id": "vP8Bap3Wg1rG"
   }
  },
  {
   "cell_type": "code",
   "source": [
    "list(store.traversal_search(\"What did the president say about Ketanji Brown Jackson?\"))"
   ],
   "metadata": {
    "colab": {
     "base_uri": "https://localhost:8080/"
    },
    "id": "9wqQd-4AWAHg",
    "outputId": "1c8725db-09f5-402d-efc4-46ff73063845"
   },
   "execution_count": 7,
   "outputs": [
    {
     "output_type": "execute_result",
     "data": {
      "text/plain": [
       "[Document(id='c298b649cb4009c0', metadata={'source': 'state_of_the_union.txt', 'links': [Link(kind='kw', direction='bidir', tag='breyer'), Link(kind='kw', direction='bidir', tag='appeals'), Link(kind='kw', direction='bidir', tag='senate'), Link(kind='kw', direction='bidir', tag='judge'), Link(kind='kw', direction='bidir', tag='honor')]}, page_content='Tonight. I call on the Senate to: Pass the Freedom to Vote Act. Pass the John Lewis Voting Rights Act. And while you’re at it, pass the Disclose Act so Americans can know who is funding our elections. \\n\\nTonight, I’d like to honor someone who has dedicated his life to serve this country: Justice Stephen Breyer—an Army veteran, Constitutional scholar, and retiring Justice of the United States Supreme Court. Justice Breyer, thank you for your service. \\n\\nOne of the most serious constitutional responsibilities a President has is nominating someone to serve on the United States Supreme Court. \\n\\nAnd I did that 4 days ago, when I nominated Circuit Court of Appeals Judge Ketanji Brown Jackson. One of our nation’s top legal minds, who will continue Justice Breyer’s legacy of excellence.'),\n",
       " Document(id='37a602e3153a1a13', metadata={'source': 'state_of_the_union.txt', 'links': [Link(kind='kw', direction='bidir', tag='judges'), Link(kind='kw', direction='bidir', tag='borders'), Link(kind='kw', direction='bidir', tag='appointed'), Link(kind='kw', direction='bidir', tag='justice'), Link(kind='kw', direction='bidir', tag='immigration')]}, page_content='A former top litigator in private practice. A former federal public defender. And from a family of public school educators and police officers. A consensus builder. Since she’s been nominated, she’s received a broad range of support—from the Fraternal Order of Police to former judges appointed by Democrats and Republicans. \\n\\nAnd if we are to advance liberty and justice, we need to secure the Border and fix the immigration system. \\n\\nWe can do both. At our border, we’ve installed new technology like cutting-edge scanners to better detect drug smuggling.  \\n\\nWe’ve set up joint patrols with Mexico and Guatemala to catch more human traffickers.  \\n\\nWe’re putting in place dedicated immigration judges so families fleeing persecution and violence can have their cases heard faster. \\n\\nWe’re securing commitments and supporting partners in South and Central America to host more refugees and secure their own borders.'),\n",
       " Document(id='7cd3f486a4839957', metadata={'source': 'state_of_the_union.txt', 'links': [Link(kind='kw', direction='bidir', tag='homes'), Link(kind='kw', direction='bidir', tag='raise'), Link(kind='kw', direction='bidir', tag='medicare'), Link(kind='kw', direction='bidir', tag='paycheck'), Link(kind='kw', direction='bidir', tag='nursing')]}, page_content='Tonight, I’m announcing a crackdown on these companies overcharging American businesses and consumers. \\n\\nAnd as Wall Street firms take over more nursing homes, quality in those homes has gone down and costs have gone up.  \\n\\nThat ends on my watch. \\n\\nMedicare is going to set higher standards for nursing homes and make sure your loved ones get the care they deserve and expect. \\n\\nWe’ll also cut costs and keep the economy going strong by giving workers a fair shot, provide more training and apprenticeships, hire them based on their skills not degrees. \\n\\nLet’s pass the Paycheck Fairness Act and paid leave.  \\n\\nRaise the minimum wage to $15 an hour and extend the Child Tax Credit, so no one has to raise a family in poverty. \\n\\nLet’s increase Pell Grants and increase our historic support of HBCUs, and invest in what Jill—our First Lady who teaches full-time—calls America’s best-kept secret: community colleges.'),\n",
       " Document(id='82ae06ccdc5df2a1', metadata={'source': 'state_of_the_union.txt', 'links': [Link(kind='kw', direction='bidir', tag='bipartisan'), Link(kind='kw', direction='bidir', tag='economy'), Link(kind='kw', direction='bidir', tag='harris'), Link(kind='kw', direction='bidir', tag='roads'), Link(kind='kw', direction='bidir', tag='infrastructure')]}, page_content='Vice President Harris and I ran for office with a new economic vision for America. \\n\\nInvest in America. Educate Americans. Grow the workforce. Build the economy from the bottom up  \\nand the middle out, not from the top down.  \\n\\nBecause we know that when the middle class grows, the poor have a ladder up and the wealthy do very well. \\n\\nAmerica used to have the best roads, bridges, and airports on Earth. \\n\\nNow our infrastructure is ranked 13th in the world. \\n\\nWe won’t be able to compete for the jobs of the 21st Century if we don’t fix that. \\n\\nThat’s why it was so important to pass the Bipartisan Infrastructure Law—the most sweeping investment to rebuild America in history. \\n\\nThis was a bipartisan effort, and I want to thank the members of both parties who worked to make it happen. \\n\\nWe’re done talking about infrastructure weeks. \\n\\nWe’re going to have an infrastructure decade.'),\n",
       " Document(id='294a672521d93c73', metadata={'source': 'state_of_the_union.txt', 'links': [Link(kind='kw', direction='bidir', tag='highway'), Link(kind='kw', direction='bidir', tag='bridges'), Link(kind='kw', direction='bidir', tag='roads'), Link(kind='kw', direction='bidir', tag='america'), Link(kind='kw', direction='bidir', tag='waterways')]}, page_content='It is going to transform America and put us on a path to win the economic competition of the 21st Century that we face with the rest of the world—particularly with China.  \\n\\nAs I’ve told Xi Jinping, it is never a good bet to bet against the American people. \\n\\nWe’ll create good jobs for millions of Americans, modernizing roads, airports, ports, and waterways all across America. \\n\\nAnd we’ll do it all to withstand the devastating effects of the climate crisis and promote environmental justice. \\n\\nWe’ll build a national network of 500,000 electric vehicle charging stations, begin to replace poisonous lead pipes—so every child—and every American—has clean water to drink at home and at school, provide affordable high-speed internet for every American—urban, suburban, rural, and tribal communities. \\n\\n4,000 projects have already been announced. \\n\\nAnd tonight, I’m announcing that this year we will start fixing over 65,000 miles of highway and 1,500 bridges in disrepair.'),\n",
       " Document(id='a521660e6277d21c', metadata={'source': 'state_of_the_union.txt', 'links': [Link(kind='kw', direction='bidir', tag='reform'), Link(kind='kw', direction='bidir', tag='immigrants'), Link(kind='kw', direction='bidir', tag='immigration'), Link(kind='kw', direction='bidir', tag='citizenship'), Link(kind='kw', direction='bidir', tag='liberty')]}, page_content='We can do all this while keeping lit the torch of liberty that has led generations of immigrants to this land—my forefathers and so many of yours. \\n\\nProvide a pathway to citizenship for Dreamers, those on temporary status, farm workers, and essential workers. \\n\\nRevise our laws so businesses have the workers they need and families don’t wait decades to reunite. \\n\\nIt’s not only the right thing to do—it’s the economically smart thing to do. \\n\\nThat’s why immigration reform is supported by everyone from labor unions to religious leaders to the U.S. Chamber of Commerce. \\n\\nLet’s get it done once and for all. \\n\\nAdvancing liberty and justice also requires protecting the rights of women. \\n\\nThe constitutional right affirmed in Roe v. Wade—standing precedent for half a century—is under attack as never before. \\n\\nIf we want to go forward—not backward—we must protect access to health care. Preserve a woman’s right to choose. And let’s continue to advance maternal health care in America.'),\n",
       " Document(id='82211de2c0d58f10', metadata={'source': 'state_of_the_union.txt', 'links': [Link(kind='kw', direction='bidir', tag='bipartisan'), Link(kind='kw', direction='bidir', tag='taxpayers'), Link(kind='kw', direction='bidir', tag='innovation'), Link(kind='kw', direction='bidir', tag='taxpayer'), Link(kind='kw', direction='bidir', tag='congress')]}, page_content='When we use taxpayer dollars to rebuild America – we are going to Buy American: buy American products to support American jobs. \\n\\nThe federal government spends about $600 Billion a year to keep the country safe and secure. \\n\\nThere’s been a law on the books for almost a century \\nto make sure taxpayers’ dollars support American jobs and businesses. \\n\\nEvery Administration says they’ll do it, but we are actually doing it. \\n\\nWe will buy American to make sure everything from the deck of an aircraft carrier to the steel on highway guardrails are made in America. \\n\\nBut to compete for the best jobs of the future, we also need to level the playing field with China and other competitors. \\n\\nThat’s why it is so important to pass the Bipartisan Innovation Act sitting in Congress that will make record investments in emerging technologies and American manufacturing. \\n\\nLet me give you one example of why it’s so important to pass it.'),\n",
       " Document(id='2d45fc11186e55c1', metadata={'source': 'state_of_the_union.txt', 'links': [Link(kind='kw', direction='bidir', tag='inflationary'), Link(kind='kw', direction='bidir', tag='economy'), Link(kind='kw', direction='bidir', tag='economics'), Link(kind='kw', direction='bidir', tag='inflation'), Link(kind='kw', direction='bidir', tag='economists')]}, page_content='I have a better plan to fight inflation. \\n\\nLower your costs, not your wages. \\n\\nMake more cars and semiconductors in America. \\n\\nMore infrastructure and innovation in America. \\n\\nMore goods moving faster and cheaper in America. \\n\\nMore jobs where you can earn a good living in America. \\n\\nAnd instead of relying on foreign supply chains, let’s make it in America. \\n\\nEconomists call it “increasing the productive capacity of our economy.” \\n\\nI call it building a better America. \\n\\nMy plan to fight inflation will lower your costs and lower the deficit. \\n\\n17 Nobel laureates in economics say my plan will ease long-term inflationary pressures. Top business leaders and most Americans support my plan. And here’s the plan: \\n\\nFirst – cut the cost of prescription drugs. Just look at insulin. One in ten Americans has diabetes. In Virginia, I met a 13-year-old boy named Joshua Davis.'),\n",
       " Document(id='4695be7680c319ae', metadata={'source': 'state_of_the_union.txt', 'links': [Link(kind='kw', direction='bidir', tag='pandemic'), Link(kind='kw', direction='bidir', tag='economy'), Link(kind='kw', direction='bidir', tag='prices'), Link(kind='kw', direction='bidir', tag='inflation'), Link(kind='kw', direction='bidir', tag='factories')]}, page_content='As Ohio Senator Sherrod Brown says, “It’s time to bury the label “Rust Belt.” \\n\\nIt’s time. \\n\\nBut with all the bright spots in our economy, record job growth and higher wages, too many families are struggling to keep up with the bills.  \\n\\nInflation is robbing them of the gains they might otherwise feel. \\n\\nI get it. That’s why my top priority is getting prices under control. \\n\\nLook, our economy roared back faster than most predicted, but the pandemic meant that businesses had a hard time hiring enough workers to keep up production in their factories. \\n\\nThe pandemic also disrupted global supply chains. \\n\\nWhen factories close, it takes longer to make goods and get them from the warehouse to the store, and prices go up. \\n\\nLook at cars. \\n\\nLast year, there weren’t enough semiconductors to make all the cars that people wanted to buy. \\n\\nAnd guess what, prices of automobiles went up. \\n\\nSo—we have a choice. \\n\\nOne way to fight inflation is to drive down wages and make Americans poorer.'),\n",
       " Document(id='cdaaa9a48836c504', metadata={'source': 'state_of_the_union.txt', 'links': [Link(kind='kw', direction='bidir', tag='bipartisan'), Link(kind='kw', direction='bidir', tag='reforming'), Link(kind='kw', direction='bidir', tag='transgender'), Link(kind='kw', direction='bidir', tag='lgbtq'), Link(kind='kw', direction='bidir', tag='agenda')]}, page_content='And for our LGBTQ+ Americans, let’s finally get the bipartisan Equality Act to my desk. The onslaught of state laws targeting transgender Americans and their families is wrong. \\n\\nAs I said last year, especially to our younger transgender Americans, I will always have your back as your President, so you can be yourself and reach your God-given potential. \\n\\nWhile it often appears that we never agree, that isn’t true. I signed 80 bipartisan bills into law last year. From preventing government shutdowns to protecting Asian-Americans from still-too-common hate crimes to reforming military justice. \\n\\nAnd soon, we’ll strengthen the Violence Against Women Act that I first wrote three decades ago. It is important for us to show the nation that we can come together and do big things. \\n\\nSo tonight I’m offering a Unity Agenda for the Nation. Four big things we can do together.  \\n\\nFirst, beat the opioid epidemic.'),\n",
       " Document(id='91c91d268883a792', metadata={'source': 'state_of_the_union.txt', 'links': [Link(kind='kw', direction='bidir', tag='economy'), Link(kind='kw', direction='bidir', tag='deficit'), Link(kind='kw', direction='bidir', tag='taxes'), Link(kind='kw', direction='bidir', tag='inflation'), Link(kind='kw', direction='bidir', tag='tax')]}, page_content='We got more than 130 countries to agree on a global minimum tax rate so companies can’t get out of paying their taxes at home by shipping jobs and factories overseas. \\n\\nThat’s why I’ve proposed closing loopholes so the very wealthy don’t pay a lower tax rate than a teacher or a firefighter.  \\n\\nSo that’s my plan. It will grow the economy and lower costs for families. \\n\\nSo what are we waiting for? Let’s get this done. And while you’re at it, confirm my nominees to the Federal Reserve, which plays a critical role in fighting inflation.  \\n\\nMy plan will not only lower costs to give families a fair shot, it will lower the deficit. \\n\\nThe previous Administration not only ballooned the deficit with tax cuts for the very wealthy and corporations, it undermined the watchdogs whose job was to keep pandemic relief funds from being wasted. \\n\\nBut in my administration, the watchdogs have been welcomed back.'),\n",
       " Document(id='8c7b2fce12000d44', metadata={'source': 'state_of_the_union.txt', 'links': [Link(kind='kw', direction='bidir', tag='joshua'), Link(kind='kw', direction='bidir', tag='costs'), Link(kind='kw', direction='bidir', tag='diabetes'), Link(kind='kw', direction='bidir', tag='medicare'), Link(kind='kw', direction='bidir', tag='insulin')]}, page_content='He and his Dad both have Type 1 diabetes, which means they need insulin every day. Insulin costs about $10 a vial to make.  \\n\\nBut drug companies charge families like Joshua and his Dad up to 30 times more. I spoke with Joshua’s mom. \\n\\nImagine what it’s like to look at your child who needs insulin and have no idea how you’re going to pay for it.  \\n\\nWhat it does to your dignity, your ability to look your child in the eye, to be the parent you expect to be. \\n\\nJoshua is here with us tonight. Yesterday was his birthday. Happy birthday, buddy.  \\n\\nFor Joshua, and for the 200,000 other young people with Type 1 diabetes, let’s cap the cost of insulin at $35 a month so everyone can afford it.  \\n\\nDrug companies will still do very well. And while we’re at it let Medicare negotiate lower prices for prescription drugs, like the VA already does.'),\n",
       " Document(id='8bb63a3f0085ab6d', metadata={'source': 'state_of_the_union.txt', 'links': [Link(kind='kw', direction='bidir', tag='economic'), Link(kind='kw', direction='bidir', tag='benefits'), Link(kind='kw', direction='bidir', tag='economy'), Link(kind='kw', direction='bidir', tag='trickle'), Link(kind='kw', direction='bidir', tag='deficits')]}, page_content='And unlike the $2 Trillion tax cut passed in the previous administration that benefitted the top 1% of Americans, the American Rescue Plan helped working people—and left no one behind. \\n\\nAnd it worked. It created jobs. Lots of jobs. \\n\\nIn fact—our economy created over 6.5 Million new jobs just last year, more jobs created in one year  \\nthan ever before in the history of America. \\n\\nOur economy grew at a rate of 5.7% last year, the strongest growth in nearly 40 years, the first step in bringing fundamental change to an economy that hasn’t worked for the working people of this nation for too long.  \\n\\nFor the past 40 years we were told that if we gave tax breaks to those at the very top, the benefits would trickle down to everyone else. \\n\\nBut that trickle-down theory led to weaker economic growth, lower wages, bigger deficits, and the widest gap between those at the top and everyone else in nearly a century.')]"
      ]
     },
     "metadata": {},
     "execution_count": 7
    }
   ]
  },
  {
   "cell_type": "markdown",
   "source": [
    "## Async methods\n",
    "\n",
    "The graph vector store has async versions of the methods prefixed with `a`."
   ],
   "metadata": {
    "collapsed": false,
    "id": "LPz3ggdGg1rG"
   }
  },
  {
   "cell_type": "code",
   "source": [
    "[doc async for doc in store.atraversal_search(\"What did the president say about Ketanji Brown Jackson?\")]"
   ],
   "metadata": {
    "colab": {
     "base_uri": "https://localhost:8080/"
    },
    "id": "TPW6gFveXgd9",
    "outputId": "1f4ce009-b32c-4ba7-ac6a-3ecba947339b"
   },
   "execution_count": 8,
   "outputs": [
    {
     "output_type": "execute_result",
     "data": {
      "text/plain": [
       "[Document(id='c298b649cb4009c0', metadata={'source': 'state_of_the_union.txt', 'links': [Link(kind='kw', direction='bidir', tag='breyer'), Link(kind='kw', direction='bidir', tag='appeals'), Link(kind='kw', direction='bidir', tag='senate'), Link(kind='kw', direction='bidir', tag='judge'), Link(kind='kw', direction='bidir', tag='honor')]}, page_content='Tonight. I call on the Senate to: Pass the Freedom to Vote Act. Pass the John Lewis Voting Rights Act. And while you’re at it, pass the Disclose Act so Americans can know who is funding our elections. \\n\\nTonight, I’d like to honor someone who has dedicated his life to serve this country: Justice Stephen Breyer—an Army veteran, Constitutional scholar, and retiring Justice of the United States Supreme Court. Justice Breyer, thank you for your service. \\n\\nOne of the most serious constitutional responsibilities a President has is nominating someone to serve on the United States Supreme Court. \\n\\nAnd I did that 4 days ago, when I nominated Circuit Court of Appeals Judge Ketanji Brown Jackson. One of our nation’s top legal minds, who will continue Justice Breyer’s legacy of excellence.'),\n",
       " Document(id='37a602e3153a1a13', metadata={'source': 'state_of_the_union.txt', 'links': [Link(kind='kw', direction='bidir', tag='judges'), Link(kind='kw', direction='bidir', tag='borders'), Link(kind='kw', direction='bidir', tag='appointed'), Link(kind='kw', direction='bidir', tag='justice'), Link(kind='kw', direction='bidir', tag='immigration')]}, page_content='A former top litigator in private practice. A former federal public defender. And from a family of public school educators and police officers. A consensus builder. Since she’s been nominated, she’s received a broad range of support—from the Fraternal Order of Police to former judges appointed by Democrats and Republicans. \\n\\nAnd if we are to advance liberty and justice, we need to secure the Border and fix the immigration system. \\n\\nWe can do both. At our border, we’ve installed new technology like cutting-edge scanners to better detect drug smuggling.  \\n\\nWe’ve set up joint patrols with Mexico and Guatemala to catch more human traffickers.  \\n\\nWe’re putting in place dedicated immigration judges so families fleeing persecution and violence can have their cases heard faster. \\n\\nWe’re securing commitments and supporting partners in South and Central America to host more refugees and secure their own borders.'),\n",
       " Document(id='7cd3f486a4839957', metadata={'source': 'state_of_the_union.txt', 'links': [Link(kind='kw', direction='bidir', tag='homes'), Link(kind='kw', direction='bidir', tag='raise'), Link(kind='kw', direction='bidir', tag='medicare'), Link(kind='kw', direction='bidir', tag='paycheck'), Link(kind='kw', direction='bidir', tag='nursing')]}, page_content='Tonight, I’m announcing a crackdown on these companies overcharging American businesses and consumers. \\n\\nAnd as Wall Street firms take over more nursing homes, quality in those homes has gone down and costs have gone up.  \\n\\nThat ends on my watch. \\n\\nMedicare is going to set higher standards for nursing homes and make sure your loved ones get the care they deserve and expect. \\n\\nWe’ll also cut costs and keep the economy going strong by giving workers a fair shot, provide more training and apprenticeships, hire them based on their skills not degrees. \\n\\nLet’s pass the Paycheck Fairness Act and paid leave.  \\n\\nRaise the minimum wage to $15 an hour and extend the Child Tax Credit, so no one has to raise a family in poverty. \\n\\nLet’s increase Pell Grants and increase our historic support of HBCUs, and invest in what Jill—our First Lady who teaches full-time—calls America’s best-kept secret: community colleges.'),\n",
       " Document(id='82ae06ccdc5df2a1', metadata={'source': 'state_of_the_union.txt', 'links': [Link(kind='kw', direction='bidir', tag='bipartisan'), Link(kind='kw', direction='bidir', tag='economy'), Link(kind='kw', direction='bidir', tag='harris'), Link(kind='kw', direction='bidir', tag='roads'), Link(kind='kw', direction='bidir', tag='infrastructure')]}, page_content='Vice President Harris and I ran for office with a new economic vision for America. \\n\\nInvest in America. Educate Americans. Grow the workforce. Build the economy from the bottom up  \\nand the middle out, not from the top down.  \\n\\nBecause we know that when the middle class grows, the poor have a ladder up and the wealthy do very well. \\n\\nAmerica used to have the best roads, bridges, and airports on Earth. \\n\\nNow our infrastructure is ranked 13th in the world. \\n\\nWe won’t be able to compete for the jobs of the 21st Century if we don’t fix that. \\n\\nThat’s why it was so important to pass the Bipartisan Infrastructure Law—the most sweeping investment to rebuild America in history. \\n\\nThis was a bipartisan effort, and I want to thank the members of both parties who worked to make it happen. \\n\\nWe’re done talking about infrastructure weeks. \\n\\nWe’re going to have an infrastructure decade.'),\n",
       " Document(id='a521660e6277d21c', metadata={'source': 'state_of_the_union.txt', 'links': [Link(kind='kw', direction='bidir', tag='reform'), Link(kind='kw', direction='bidir', tag='immigrants'), Link(kind='kw', direction='bidir', tag='immigration'), Link(kind='kw', direction='bidir', tag='citizenship'), Link(kind='kw', direction='bidir', tag='liberty')]}, page_content='We can do all this while keeping lit the torch of liberty that has led generations of immigrants to this land—my forefathers and so many of yours. \\n\\nProvide a pathway to citizenship for Dreamers, those on temporary status, farm workers, and essential workers. \\n\\nRevise our laws so businesses have the workers they need and families don’t wait decades to reunite. \\n\\nIt’s not only the right thing to do—it’s the economically smart thing to do. \\n\\nThat’s why immigration reform is supported by everyone from labor unions to religious leaders to the U.S. Chamber of Commerce. \\n\\nLet’s get it done once and for all. \\n\\nAdvancing liberty and justice also requires protecting the rights of women. \\n\\nThe constitutional right affirmed in Roe v. Wade—standing precedent for half a century—is under attack as never before. \\n\\nIf we want to go forward—not backward—we must protect access to health care. Preserve a woman’s right to choose. And let’s continue to advance maternal health care in America.'),\n",
       " Document(id='294a672521d93c73', metadata={'source': 'state_of_the_union.txt', 'links': [Link(kind='kw', direction='bidir', tag='highway'), Link(kind='kw', direction='bidir', tag='bridges'), Link(kind='kw', direction='bidir', tag='roads'), Link(kind='kw', direction='bidir', tag='america'), Link(kind='kw', direction='bidir', tag='waterways')]}, page_content='It is going to transform America and put us on a path to win the economic competition of the 21st Century that we face with the rest of the world—particularly with China.  \\n\\nAs I’ve told Xi Jinping, it is never a good bet to bet against the American people. \\n\\nWe’ll create good jobs for millions of Americans, modernizing roads, airports, ports, and waterways all across America. \\n\\nAnd we’ll do it all to withstand the devastating effects of the climate crisis and promote environmental justice. \\n\\nWe’ll build a national network of 500,000 electric vehicle charging stations, begin to replace poisonous lead pipes—so every child—and every American—has clean water to drink at home and at school, provide affordable high-speed internet for every American—urban, suburban, rural, and tribal communities. \\n\\n4,000 projects have already been announced. \\n\\nAnd tonight, I’m announcing that this year we will start fixing over 65,000 miles of highway and 1,500 bridges in disrepair.'),\n",
       " Document(id='82211de2c0d58f10', metadata={'source': 'state_of_the_union.txt', 'links': [Link(kind='kw', direction='bidir', tag='bipartisan'), Link(kind='kw', direction='bidir', tag='taxpayers'), Link(kind='kw', direction='bidir', tag='innovation'), Link(kind='kw', direction='bidir', tag='taxpayer'), Link(kind='kw', direction='bidir', tag='congress')]}, page_content='When we use taxpayer dollars to rebuild America – we are going to Buy American: buy American products to support American jobs. \\n\\nThe federal government spends about $600 Billion a year to keep the country safe and secure. \\n\\nThere’s been a law on the books for almost a century \\nto make sure taxpayers’ dollars support American jobs and businesses. \\n\\nEvery Administration says they’ll do it, but we are actually doing it. \\n\\nWe will buy American to make sure everything from the deck of an aircraft carrier to the steel on highway guardrails are made in America. \\n\\nBut to compete for the best jobs of the future, we also need to level the playing field with China and other competitors. \\n\\nThat’s why it is so important to pass the Bipartisan Innovation Act sitting in Congress that will make record investments in emerging technologies and American manufacturing. \\n\\nLet me give you one example of why it’s so important to pass it.'),\n",
       " Document(id='4695be7680c319ae', metadata={'source': 'state_of_the_union.txt', 'links': [Link(kind='kw', direction='bidir', tag='pandemic'), Link(kind='kw', direction='bidir', tag='economy'), Link(kind='kw', direction='bidir', tag='prices'), Link(kind='kw', direction='bidir', tag='inflation'), Link(kind='kw', direction='bidir', tag='factories')]}, page_content='As Ohio Senator Sherrod Brown says, “It’s time to bury the label “Rust Belt.” \\n\\nIt’s time. \\n\\nBut with all the bright spots in our economy, record job growth and higher wages, too many families are struggling to keep up with the bills.  \\n\\nInflation is robbing them of the gains they might otherwise feel. \\n\\nI get it. That’s why my top priority is getting prices under control. \\n\\nLook, our economy roared back faster than most predicted, but the pandemic meant that businesses had a hard time hiring enough workers to keep up production in their factories. \\n\\nThe pandemic also disrupted global supply chains. \\n\\nWhen factories close, it takes longer to make goods and get them from the warehouse to the store, and prices go up. \\n\\nLook at cars. \\n\\nLast year, there weren’t enough semiconductors to make all the cars that people wanted to buy. \\n\\nAnd guess what, prices of automobiles went up. \\n\\nSo—we have a choice. \\n\\nOne way to fight inflation is to drive down wages and make Americans poorer.'),\n",
       " Document(id='2d45fc11186e55c1', metadata={'source': 'state_of_the_union.txt', 'links': [Link(kind='kw', direction='bidir', tag='inflationary'), Link(kind='kw', direction='bidir', tag='economy'), Link(kind='kw', direction='bidir', tag='economics'), Link(kind='kw', direction='bidir', tag='inflation'), Link(kind='kw', direction='bidir', tag='economists')]}, page_content='I have a better plan to fight inflation. \\n\\nLower your costs, not your wages. \\n\\nMake more cars and semiconductors in America. \\n\\nMore infrastructure and innovation in America. \\n\\nMore goods moving faster and cheaper in America. \\n\\nMore jobs where you can earn a good living in America. \\n\\nAnd instead of relying on foreign supply chains, let’s make it in America. \\n\\nEconomists call it “increasing the productive capacity of our economy.” \\n\\nI call it building a better America. \\n\\nMy plan to fight inflation will lower your costs and lower the deficit. \\n\\n17 Nobel laureates in economics say my plan will ease long-term inflationary pressures. Top business leaders and most Americans support my plan. And here’s the plan: \\n\\nFirst – cut the cost of prescription drugs. Just look at insulin. One in ten Americans has diabetes. In Virginia, I met a 13-year-old boy named Joshua Davis.'),\n",
       " Document(id='cdaaa9a48836c504', metadata={'source': 'state_of_the_union.txt', 'links': [Link(kind='kw', direction='bidir', tag='bipartisan'), Link(kind='kw', direction='bidir', tag='reforming'), Link(kind='kw', direction='bidir', tag='transgender'), Link(kind='kw', direction='bidir', tag='lgbtq'), Link(kind='kw', direction='bidir', tag='agenda')]}, page_content='And for our LGBTQ+ Americans, let’s finally get the bipartisan Equality Act to my desk. The onslaught of state laws targeting transgender Americans and their families is wrong. \\n\\nAs I said last year, especially to our younger transgender Americans, I will always have your back as your President, so you can be yourself and reach your God-given potential. \\n\\nWhile it often appears that we never agree, that isn’t true. I signed 80 bipartisan bills into law last year. From preventing government shutdowns to protecting Asian-Americans from still-too-common hate crimes to reforming military justice. \\n\\nAnd soon, we’ll strengthen the Violence Against Women Act that I first wrote three decades ago. It is important for us to show the nation that we can come together and do big things. \\n\\nSo tonight I’m offering a Unity Agenda for the Nation. Four big things we can do together.  \\n\\nFirst, beat the opioid epidemic.'),\n",
       " Document(id='91c91d268883a792', metadata={'source': 'state_of_the_union.txt', 'links': [Link(kind='kw', direction='bidir', tag='economy'), Link(kind='kw', direction='bidir', tag='deficit'), Link(kind='kw', direction='bidir', tag='taxes'), Link(kind='kw', direction='bidir', tag='inflation'), Link(kind='kw', direction='bidir', tag='tax')]}, page_content='We got more than 130 countries to agree on a global minimum tax rate so companies can’t get out of paying their taxes at home by shipping jobs and factories overseas. \\n\\nThat’s why I’ve proposed closing loopholes so the very wealthy don’t pay a lower tax rate than a teacher or a firefighter.  \\n\\nSo that’s my plan. It will grow the economy and lower costs for families. \\n\\nSo what are we waiting for? Let’s get this done. And while you’re at it, confirm my nominees to the Federal Reserve, which plays a critical role in fighting inflation.  \\n\\nMy plan will not only lower costs to give families a fair shot, it will lower the deficit. \\n\\nThe previous Administration not only ballooned the deficit with tax cuts for the very wealthy and corporations, it undermined the watchdogs whose job was to keep pandemic relief funds from being wasted. \\n\\nBut in my administration, the watchdogs have been welcomed back.'),\n",
       " Document(id='8bb63a3f0085ab6d', metadata={'source': 'state_of_the_union.txt', 'links': [Link(kind='kw', direction='bidir', tag='economic'), Link(kind='kw', direction='bidir', tag='benefits'), Link(kind='kw', direction='bidir', tag='economy'), Link(kind='kw', direction='bidir', tag='trickle'), Link(kind='kw', direction='bidir', tag='deficits')]}, page_content='And unlike the $2 Trillion tax cut passed in the previous administration that benefitted the top 1% of Americans, the American Rescue Plan helped working people—and left no one behind. \\n\\nAnd it worked. It created jobs. Lots of jobs. \\n\\nIn fact—our economy created over 6.5 Million new jobs just last year, more jobs created in one year  \\nthan ever before in the history of America. \\n\\nOur economy grew at a rate of 5.7% last year, the strongest growth in nearly 40 years, the first step in bringing fundamental change to an economy that hasn’t worked for the working people of this nation for too long.  \\n\\nFor the past 40 years we were told that if we gave tax breaks to those at the very top, the benefits would trickle down to everyone else. \\n\\nBut that trickle-down theory led to weaker economic growth, lower wages, bigger deficits, and the widest gap between those at the top and everyone else in nearly a century.'),\n",
       " Document(id='8c7b2fce12000d44', metadata={'source': 'state_of_the_union.txt', 'links': [Link(kind='kw', direction='bidir', tag='joshua'), Link(kind='kw', direction='bidir', tag='costs'), Link(kind='kw', direction='bidir', tag='diabetes'), Link(kind='kw', direction='bidir', tag='medicare'), Link(kind='kw', direction='bidir', tag='insulin')]}, page_content='He and his Dad both have Type 1 diabetes, which means they need insulin every day. Insulin costs about $10 a vial to make.  \\n\\nBut drug companies charge families like Joshua and his Dad up to 30 times more. I spoke with Joshua’s mom. \\n\\nImagine what it’s like to look at your child who needs insulin and have no idea how you’re going to pay for it.  \\n\\nWhat it does to your dignity, your ability to look your child in the eye, to be the parent you expect to be. \\n\\nJoshua is here with us tonight. Yesterday was his birthday. Happy birthday, buddy.  \\n\\nFor Joshua, and for the 200,000 other young people with Type 1 diabetes, let’s cap the cost of insulin at $35 a month so everyone can afford it.  \\n\\nDrug companies will still do very well. And while we’re at it let Medicare negotiate lower prices for prescription drugs, like the VA already does.')]"
      ]
     },
     "metadata": {},
     "execution_count": 8
    }
   ]
  },
  {
   "cell_type": "markdown",
   "source": [
    "## Graph vector store retriever\n",
    "\n",
    "The graph vector store can be converted to a retriever. It is similar to the vector store retriever but it also has traversal search methods such as `traversal` and `mmr_traversal`."
   ],
   "metadata": {
    "collapsed": false,
    "id": "sMkeQ5Btg1rG"
   }
  },
  {
   "cell_type": "code",
   "outputs": [
    {
     "output_type": "execute_result",
     "data": {
      "text/plain": [
       "[Document(id='c298b649cb4009c0', metadata={'source': 'state_of_the_union.txt', 'links': [Link(kind='kw', direction='bidir', tag='breyer'), Link(kind='kw', direction='bidir', tag='appeals'), Link(kind='kw', direction='bidir', tag='senate'), Link(kind='kw', direction='bidir', tag='judge'), Link(kind='kw', direction='bidir', tag='honor')]}, page_content='Tonight. I call on the Senate to: Pass the Freedom to Vote Act. Pass the John Lewis Voting Rights Act. And while you’re at it, pass the Disclose Act so Americans can know who is funding our elections. \\n\\nTonight, I’d like to honor someone who has dedicated his life to serve this country: Justice Stephen Breyer—an Army veteran, Constitutional scholar, and retiring Justice of the United States Supreme Court. Justice Breyer, thank you for your service. \\n\\nOne of the most serious constitutional responsibilities a President has is nominating someone to serve on the United States Supreme Court. \\n\\nAnd I did that 4 days ago, when I nominated Circuit Court of Appeals Judge Ketanji Brown Jackson. One of our nation’s top legal minds, who will continue Justice Breyer’s legacy of excellence.'),\n",
       " Document(id='37a602e3153a1a13', metadata={'source': 'state_of_the_union.txt', 'links': [Link(kind='kw', direction='bidir', tag='judges'), Link(kind='kw', direction='bidir', tag='borders'), Link(kind='kw', direction='bidir', tag='appointed'), Link(kind='kw', direction='bidir', tag='justice'), Link(kind='kw', direction='bidir', tag='immigration')]}, page_content='A former top litigator in private practice. A former federal public defender. And from a family of public school educators and police officers. A consensus builder. Since she’s been nominated, she’s received a broad range of support—from the Fraternal Order of Police to former judges appointed by Democrats and Republicans. \\n\\nAnd if we are to advance liberty and justice, we need to secure the Border and fix the immigration system. \\n\\nWe can do both. At our border, we’ve installed new technology like cutting-edge scanners to better detect drug smuggling.  \\n\\nWe’ve set up joint patrols with Mexico and Guatemala to catch more human traffickers.  \\n\\nWe’re putting in place dedicated immigration judges so families fleeing persecution and violence can have their cases heard faster. \\n\\nWe’re securing commitments and supporting partners in South and Central America to host more refugees and secure their own borders.'),\n",
       " Document(id='7cd3f486a4839957', metadata={'source': 'state_of_the_union.txt', 'links': [Link(kind='kw', direction='bidir', tag='homes'), Link(kind='kw', direction='bidir', tag='raise'), Link(kind='kw', direction='bidir', tag='medicare'), Link(kind='kw', direction='bidir', tag='paycheck'), Link(kind='kw', direction='bidir', tag='nursing')]}, page_content='Tonight, I’m announcing a crackdown on these companies overcharging American businesses and consumers. \\n\\nAnd as Wall Street firms take over more nursing homes, quality in those homes has gone down and costs have gone up.  \\n\\nThat ends on my watch. \\n\\nMedicare is going to set higher standards for nursing homes and make sure your loved ones get the care they deserve and expect. \\n\\nWe’ll also cut costs and keep the economy going strong by giving workers a fair shot, provide more training and apprenticeships, hire them based on their skills not degrees. \\n\\nLet’s pass the Paycheck Fairness Act and paid leave.  \\n\\nRaise the minimum wage to $15 an hour and extend the Child Tax Credit, so no one has to raise a family in poverty. \\n\\nLet’s increase Pell Grants and increase our historic support of HBCUs, and invest in what Jill—our First Lady who teaches full-time—calls America’s best-kept secret: community colleges.'),\n",
       " Document(id='82ae06ccdc5df2a1', metadata={'source': 'state_of_the_union.txt', 'links': [Link(kind='kw', direction='bidir', tag='bipartisan'), Link(kind='kw', direction='bidir', tag='economy'), Link(kind='kw', direction='bidir', tag='harris'), Link(kind='kw', direction='bidir', tag='roads'), Link(kind='kw', direction='bidir', tag='infrastructure')]}, page_content='Vice President Harris and I ran for office with a new economic vision for America. \\n\\nInvest in America. Educate Americans. Grow the workforce. Build the economy from the bottom up  \\nand the middle out, not from the top down.  \\n\\nBecause we know that when the middle class grows, the poor have a ladder up and the wealthy do very well. \\n\\nAmerica used to have the best roads, bridges, and airports on Earth. \\n\\nNow our infrastructure is ranked 13th in the world. \\n\\nWe won’t be able to compete for the jobs of the 21st Century if we don’t fix that. \\n\\nThat’s why it was so important to pass the Bipartisan Infrastructure Law—the most sweeping investment to rebuild America in history. \\n\\nThis was a bipartisan effort, and I want to thank the members of both parties who worked to make it happen. \\n\\nWe’re done talking about infrastructure weeks. \\n\\nWe’re going to have an infrastructure decade.'),\n",
       " Document(id='a521660e6277d21c', metadata={'source': 'state_of_the_union.txt', 'links': [Link(kind='kw', direction='bidir', tag='reform'), Link(kind='kw', direction='bidir', tag='immigrants'), Link(kind='kw', direction='bidir', tag='immigration'), Link(kind='kw', direction='bidir', tag='citizenship'), Link(kind='kw', direction='bidir', tag='liberty')]}, page_content='We can do all this while keeping lit the torch of liberty that has led generations of immigrants to this land—my forefathers and so many of yours. \\n\\nProvide a pathway to citizenship for Dreamers, those on temporary status, farm workers, and essential workers. \\n\\nRevise our laws so businesses have the workers they need and families don’t wait decades to reunite. \\n\\nIt’s not only the right thing to do—it’s the economically smart thing to do. \\n\\nThat’s why immigration reform is supported by everyone from labor unions to religious leaders to the U.S. Chamber of Commerce. \\n\\nLet’s get it done once and for all. \\n\\nAdvancing liberty and justice also requires protecting the rights of women. \\n\\nThe constitutional right affirmed in Roe v. Wade—standing precedent for half a century—is under attack as never before. \\n\\nIf we want to go forward—not backward—we must protect access to health care. Preserve a woman’s right to choose. And let’s continue to advance maternal health care in America.'),\n",
       " Document(id='8bb63a3f0085ab6d', metadata={'source': 'state_of_the_union.txt', 'links': [Link(kind='kw', direction='bidir', tag='economic'), Link(kind='kw', direction='bidir', tag='benefits'), Link(kind='kw', direction='bidir', tag='economy'), Link(kind='kw', direction='bidir', tag='trickle'), Link(kind='kw', direction='bidir', tag='deficits')]}, page_content='And unlike the $2 Trillion tax cut passed in the previous administration that benefitted the top 1% of Americans, the American Rescue Plan helped working people—and left no one behind. \\n\\nAnd it worked. It created jobs. Lots of jobs. \\n\\nIn fact—our economy created over 6.5 Million new jobs just last year, more jobs created in one year  \\nthan ever before in the history of America. \\n\\nOur economy grew at a rate of 5.7% last year, the strongest growth in nearly 40 years, the first step in bringing fundamental change to an economy that hasn’t worked for the working people of this nation for too long.  \\n\\nFor the past 40 years we were told that if we gave tax breaks to those at the very top, the benefits would trickle down to everyone else. \\n\\nBut that trickle-down theory led to weaker economic growth, lower wages, bigger deficits, and the widest gap between those at the top and everyone else in nearly a century.'),\n",
       " Document(id='2d45fc11186e55c1', metadata={'source': 'state_of_the_union.txt', 'links': [Link(kind='kw', direction='bidir', tag='inflationary'), Link(kind='kw', direction='bidir', tag='economy'), Link(kind='kw', direction='bidir', tag='economics'), Link(kind='kw', direction='bidir', tag='inflation'), Link(kind='kw', direction='bidir', tag='economists')]}, page_content='I have a better plan to fight inflation. \\n\\nLower your costs, not your wages. \\n\\nMake more cars and semiconductors in America. \\n\\nMore infrastructure and innovation in America. \\n\\nMore goods moving faster and cheaper in America. \\n\\nMore jobs where you can earn a good living in America. \\n\\nAnd instead of relying on foreign supply chains, let’s make it in America. \\n\\nEconomists call it “increasing the productive capacity of our economy.” \\n\\nI call it building a better America. \\n\\nMy plan to fight inflation will lower your costs and lower the deficit. \\n\\n17 Nobel laureates in economics say my plan will ease long-term inflationary pressures. Top business leaders and most Americans support my plan. And here’s the plan: \\n\\nFirst – cut the cost of prescription drugs. Just look at insulin. One in ten Americans has diabetes. In Virginia, I met a 13-year-old boy named Joshua Davis.'),\n",
       " Document(id='82211de2c0d58f10', metadata={'source': 'state_of_the_union.txt', 'links': [Link(kind='kw', direction='bidir', tag='bipartisan'), Link(kind='kw', direction='bidir', tag='taxpayers'), Link(kind='kw', direction='bidir', tag='innovation'), Link(kind='kw', direction='bidir', tag='taxpayer'), Link(kind='kw', direction='bidir', tag='congress')]}, page_content='When we use taxpayer dollars to rebuild America – we are going to Buy American: buy American products to support American jobs. \\n\\nThe federal government spends about $600 Billion a year to keep the country safe and secure. \\n\\nThere’s been a law on the books for almost a century \\nto make sure taxpayers’ dollars support American jobs and businesses. \\n\\nEvery Administration says they’ll do it, but we are actually doing it. \\n\\nWe will buy American to make sure everything from the deck of an aircraft carrier to the steel on highway guardrails are made in America. \\n\\nBut to compete for the best jobs of the future, we also need to level the playing field with China and other competitors. \\n\\nThat’s why it is so important to pass the Bipartisan Innovation Act sitting in Congress that will make record investments in emerging technologies and American manufacturing. \\n\\nLet me give you one example of why it’s so important to pass it.'),\n",
       " Document(id='cdaaa9a48836c504', metadata={'source': 'state_of_the_union.txt', 'links': [Link(kind='kw', direction='bidir', tag='bipartisan'), Link(kind='kw', direction='bidir', tag='reforming'), Link(kind='kw', direction='bidir', tag='transgender'), Link(kind='kw', direction='bidir', tag='lgbtq'), Link(kind='kw', direction='bidir', tag='agenda')]}, page_content='And for our LGBTQ+ Americans, let’s finally get the bipartisan Equality Act to my desk. The onslaught of state laws targeting transgender Americans and their families is wrong. \\n\\nAs I said last year, especially to our younger transgender Americans, I will always have your back as your President, so you can be yourself and reach your God-given potential. \\n\\nWhile it often appears that we never agree, that isn’t true. I signed 80 bipartisan bills into law last year. From preventing government shutdowns to protecting Asian-Americans from still-too-common hate crimes to reforming military justice. \\n\\nAnd soon, we’ll strengthen the Violence Against Women Act that I first wrote three decades ago. It is important for us to show the nation that we can come together and do big things. \\n\\nSo tonight I’m offering a Unity Agenda for the Nation. Four big things we can do together.  \\n\\nFirst, beat the opioid epidemic.'),\n",
       " Document(id='4695be7680c319ae', metadata={'source': 'state_of_the_union.txt', 'links': [Link(kind='kw', direction='bidir', tag='pandemic'), Link(kind='kw', direction='bidir', tag='economy'), Link(kind='kw', direction='bidir', tag='prices'), Link(kind='kw', direction='bidir', tag='inflation'), Link(kind='kw', direction='bidir', tag='factories')]}, page_content='As Ohio Senator Sherrod Brown says, “It’s time to bury the label “Rust Belt.” \\n\\nIt’s time. \\n\\nBut with all the bright spots in our economy, record job growth and higher wages, too many families are struggling to keep up with the bills.  \\n\\nInflation is robbing them of the gains they might otherwise feel. \\n\\nI get it. That’s why my top priority is getting prices under control. \\n\\nLook, our economy roared back faster than most predicted, but the pandemic meant that businesses had a hard time hiring enough workers to keep up production in their factories. \\n\\nThe pandemic also disrupted global supply chains. \\n\\nWhen factories close, it takes longer to make goods and get them from the warehouse to the store, and prices go up. \\n\\nLook at cars. \\n\\nLast year, there weren’t enough semiconductors to make all the cars that people wanted to buy. \\n\\nAnd guess what, prices of automobiles went up. \\n\\nSo—we have a choice. \\n\\nOne way to fight inflation is to drive down wages and make Americans poorer.'),\n",
       " Document(id='294a672521d93c73', metadata={'source': 'state_of_the_union.txt', 'links': [Link(kind='kw', direction='bidir', tag='highway'), Link(kind='kw', direction='bidir', tag='bridges'), Link(kind='kw', direction='bidir', tag='roads'), Link(kind='kw', direction='bidir', tag='america'), Link(kind='kw', direction='bidir', tag='waterways')]}, page_content='It is going to transform America and put us on a path to win the economic competition of the 21st Century that we face with the rest of the world—particularly with China.  \\n\\nAs I’ve told Xi Jinping, it is never a good bet to bet against the American people. \\n\\nWe’ll create good jobs for millions of Americans, modernizing roads, airports, ports, and waterways all across America. \\n\\nAnd we’ll do it all to withstand the devastating effects of the climate crisis and promote environmental justice. \\n\\nWe’ll build a national network of 500,000 electric vehicle charging stations, begin to replace poisonous lead pipes—so every child—and every American—has clean water to drink at home and at school, provide affordable high-speed internet for every American—urban, suburban, rural, and tribal communities. \\n\\n4,000 projects have already been announced. \\n\\nAnd tonight, I’m announcing that this year we will start fixing over 65,000 miles of highway and 1,500 bridges in disrepair.'),\n",
       " Document(id='91c91d268883a792', metadata={'source': 'state_of_the_union.txt', 'links': [Link(kind='kw', direction='bidir', tag='economy'), Link(kind='kw', direction='bidir', tag='deficit'), Link(kind='kw', direction='bidir', tag='taxes'), Link(kind='kw', direction='bidir', tag='inflation'), Link(kind='kw', direction='bidir', tag='tax')]}, page_content='We got more than 130 countries to agree on a global minimum tax rate so companies can’t get out of paying their taxes at home by shipping jobs and factories overseas. \\n\\nThat’s why I’ve proposed closing loopholes so the very wealthy don’t pay a lower tax rate than a teacher or a firefighter.  \\n\\nSo that’s my plan. It will grow the economy and lower costs for families. \\n\\nSo what are we waiting for? Let’s get this done. And while you’re at it, confirm my nominees to the Federal Reserve, which plays a critical role in fighting inflation.  \\n\\nMy plan will not only lower costs to give families a fair shot, it will lower the deficit. \\n\\nThe previous Administration not only ballooned the deficit with tax cuts for the very wealthy and corporations, it undermined the watchdogs whose job was to keep pandemic relief funds from being wasted. \\n\\nBut in my administration, the watchdogs have been welcomed back.'),\n",
       " Document(id='8c7b2fce12000d44', metadata={'source': 'state_of_the_union.txt', 'links': [Link(kind='kw', direction='bidir', tag='joshua'), Link(kind='kw', direction='bidir', tag='costs'), Link(kind='kw', direction='bidir', tag='diabetes'), Link(kind='kw', direction='bidir', tag='medicare'), Link(kind='kw', direction='bidir', tag='insulin')]}, page_content='He and his Dad both have Type 1 diabetes, which means they need insulin every day. Insulin costs about $10 a vial to make.  \\n\\nBut drug companies charge families like Joshua and his Dad up to 30 times more. I spoke with Joshua’s mom. \\n\\nImagine what it’s like to look at your child who needs insulin and have no idea how you’re going to pay for it.  \\n\\nWhat it does to your dignity, your ability to look your child in the eye, to be the parent you expect to be. \\n\\nJoshua is here with us tonight. Yesterday was his birthday. Happy birthday, buddy.  \\n\\nFor Joshua, and for the 200,000 other young people with Type 1 diabetes, let’s cap the cost of insulin at $35 a month so everyone can afford it.  \\n\\nDrug companies will still do very well. And while we’re at it let Medicare negotiate lower prices for prescription drugs, like the VA already does.')]"
      ]
     },
     "metadata": {},
     "execution_count": 9
    }
   ],
   "source": [
    "retriever  = store.as_retriever(search_type=\"traversal\")\n",
    "retriever.invoke(\"What did the president say about Ketanji Brown Jackson?\")"
   ],
   "metadata": {
    "colab": {
     "base_uri": "https://localhost:8080/"
    },
    "id": "O-hmmRZpg1rG",
    "outputId": "26b5df70-8e81-42b4-e24b-f253cbaaa48d"
   },
   "execution_count": 9
  }
 ]
}
