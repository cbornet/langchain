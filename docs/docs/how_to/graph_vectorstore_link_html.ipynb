{
 "cells": [
  {
   "cell_type": "markdown",
   "id": "105cddce",
   "metadata": {
    "id": "105cddce"
   },
   "source": [
    "# How to link Documents on hyperlinks in HTML\n",
    "\n",
    "The `HtmlLinkExtractor` creates outgoing links to hyperlinks found in an HTML Document and an incoming link from a provided URL where this document is hosted.\n",
    "\n",
    "## Preliminaries\n",
    "\n",
    "Install the following dependencies:"
   ]
  },
  {
   "cell_type": "code",
   "execution_count": null,
   "id": "uhSOaTs1Z371",
   "metadata": {
    "colab": {
     "base_uri": "https://localhost:8080/"
    },
    "id": "uhSOaTs1Z371",
    "outputId": "69175547-bb58-43d5-e87a-c242fcdad2b0"
   },
   "outputs": [],
   "source": [
    "%pip install -q langchain_community beautifulsoup4"
   ]
  },
  {
   "cell_type": "markdown",
   "id": "ZsJgwVfocJYB",
   "metadata": {
    "id": "ZsJgwVfocJYB"
   },
   "source": [
    "## Usage\n",
    "\n",
    "We'll scrape 2 HTML pages that have an hyperlink from one page to the other and use the `HtmlLinkExtractor` to create the links in the documents.\n",
    "\n",
    "### Basic usage"
   ]
  },
  {
   "cell_type": "code",
   "execution_count": 79,
   "id": "174e3c69",
   "metadata": {
    "colab": {
     "base_uri": "https://localhost:8080/"
    },
    "id": "174e3c69",
    "outputId": "e1f025b3-ca2f-4601-b253-61ae107fa238"
   },
   "outputs": [
    {
     "data": {
      "text/plain": [
       "[Link(kind='hyperlink', direction='out', tag='https://python.langchain.com/v0.2/docs/integrations/providers/spreedly/'),\n",
       " Link(kind='hyperlink', direction='out', tag='https://python.langchain.com/v0.2/docs/integrations/providers/nvidia/'),\n",
       " Link(kind='hyperlink', direction='out', tag='https://python.langchain.com/v0.2/docs/integrations/providers/ray_serve/'),\n",
       " Link(kind='hyperlink', direction='out', tag='https://python.langchain.com/v0.2/docs/integrations/providers/bageldb/'),\n",
       " Link(kind='hyperlink', direction='out', tag='https://python.langchain.com/v0.2/docs/introduction/'),\n",
       " Link(kind='hyperlink', direction='out', tag='https://python.langchain.com/v0.2/docs/integrations/providers/gradient/'),\n",
       " Link(kind='hyperlink', direction='out', tag='https://python.langchain.com/v0.2/docs/integrations/providers/replicate/'),\n",
       " Link(kind='hyperlink', direction='out', tag='https://python.langchain.com/v0.2/docs/integrations/providers/cerebriumai/'),\n",
       " Link(kind='hyperlink', direction='out', tag='https://python.langchain.com/v0.2/docs/integrations/providers/spacy/'),\n",
       " Link(kind='hyperlink', direction='out', tag='https://python.langchain.com/v0.2/docs/integrations/providers/hazy_research/')]"
      ]
     },
     "execution_count": 79,
     "metadata": {},
     "output_type": "execute_result"
    }
   ],
   "source": [
    "import requests\n",
    "from langchain_community.graph_vectorstores.extractors import (\n",
    "    HtmlInput,\n",
    "    HtmlLinkExtractor,\n",
    ")\n",
    "from langchain_core.documents import Document\n",
    "from langchain_core.graph_vectorstores.links import add_links\n",
    "\n",
    "html_extractor = HtmlLinkExtractor()\n",
    "\n",
    "documents = []\n",
    "for url in [\n",
    "    \"https://python.langchain.com/v0.2/docs/integrations/providers/astradb/\",\n",
    "    \"https://docs.datastax.com/en/astra/home/astra.html\",\n",
    "]:\n",
    "    html = requests.get(url)\n",
    "    doc = Document(str(html.content), metadata={\"source\": url})\n",
    "    links = html_extractor.extract_one(HtmlInput(doc.page_content, url))\n",
    "    add_links(doc, links)\n",
    "    documents.append(doc)\n",
    "\n",
    "documents[0].metadata[\"links\"][:10]"
   ]
  },
  {
   "cell_type": "markdown",
   "id": "rk8rG_p4dN10",
   "metadata": {
    "id": "rk8rG_p4dN10"
   },
   "source": [
    "\n",
    "\n",
    "The documents with hyperlink links can then be added to a `GraphVectorStore`.\n"
   ]
  },
  {
   "cell_type": "code",
   "execution_count": null,
   "id": "kOB8KJzvdN10",
   "metadata": {
    "id": "kOB8KJzvdN10"
   },
   "outputs": [],
   "source": [
    "from langchain_community.graph_vectorstores import CassandraGraphVectorStore\n",
    "\n",
    "store = CassandraGraphVectorStore.from_documents(documents=documents, embedding=...)"
   ]
  },
  {
   "cell_type": "markdown",
   "id": "FBIkqkvZXxhn",
   "metadata": {
    "id": "FBIkqkvZXxhn"
   },
   "source": [
    "### Using as_document_extractor()\n",
    "\n",
    "If you use a document loader that returns the raw HTML and that sets the `source` key in the document metadata such as `AsyncHtmlLoader`, you can simplify by using `as_document_extractor()` that takes directly `Document` as input."
   ]
  },
  {
   "cell_type": "code",
   "execution_count": 81,
   "id": "EWrLJBqjXz2t",
   "metadata": {
    "colab": {
     "base_uri": "https://localhost:8080/"
    },
    "id": "EWrLJBqjXz2t",
    "outputId": "19e2e156-15a5-4859-f058-d285717a7c10"
   },
   "outputs": [
    {
     "name": "stderr",
     "output_type": "stream",
     "text": [
      "Fetching pages: 100%|##########| 2/2 [00:00<00:00, 10.85it/s]\n"
     ]
    },
    {
     "data": {
      "text/plain": [
       "[Link(kind='hyperlink', direction='out', tag='https://python.langchain.com/v0.2/docs/integrations/providers/spreedly/'),\n",
       " Link(kind='hyperlink', direction='out', tag='https://python.langchain.com/v0.2/docs/integrations/providers/nvidia/'),\n",
       " Link(kind='hyperlink', direction='out', tag='https://python.langchain.com/v0.2/docs/integrations/providers/ray_serve/'),\n",
       " Link(kind='hyperlink', direction='out', tag='https://python.langchain.com/v0.2/docs/integrations/providers/bageldb/'),\n",
       " Link(kind='hyperlink', direction='out', tag='https://python.langchain.com/v0.2/docs/introduction/'),\n",
       " Link(kind='hyperlink', direction='out', tag='https://python.langchain.com/v0.2/docs/integrations/providers/gradient/'),\n",
       " Link(kind='hyperlink', direction='out', tag='https://python.langchain.com/v0.2/docs/integrations/providers/replicate/'),\n",
       " Link(kind='hyperlink', direction='out', tag='https://python.langchain.com/v0.2/docs/integrations/providers/cerebriumai/'),\n",
       " Link(kind='hyperlink', direction='out', tag='https://python.langchain.com/v0.2/docs/integrations/providers/spacy/'),\n",
       " Link(kind='hyperlink', direction='out', tag='https://python.langchain.com/v0.2/docs/integrations/providers/hazy_research/')]"
      ]
     },
     "execution_count": 81,
     "metadata": {},
     "output_type": "execute_result"
    }
   ],
   "source": [
    "from langchain_community.document_loaders import AsyncHtmlLoader\n",
    "from langchain_community.graph_vectorstores.extractors import HtmlLinkExtractor\n",
    "from langchain_core.graph_vectorstores.links import add_links\n",
    "\n",
    "loader = AsyncHtmlLoader(\n",
    "    [\n",
    "        \"https://python.langchain.com/v0.2/docs/integrations/providers/astradb/\",\n",
    "        \"https://docs.datastax.com/en/astra/home/astra.html\",\n",
    "    ]\n",
    ")\n",
    "documents = loader.load()\n",
    "html_extractor = HtmlLinkExtractor().as_document_extractor()\n",
    "\n",
    "for i, document in enumerate(documents):\n",
    "    document.id = f\"doc-{i}\"\n",
    "    links = html_extractor.extract_one(document)\n",
    "    add_links(document, links)\n",
    "\n",
    "documents[0].metadata[\"links\"][:10]"
   ]
  },
  {
   "cell_type": "markdown",
   "id": "pT2QRg5FYwAD",
   "metadata": {
    "id": "pT2QRg5FYwAD"
   },
   "source": [
    "### Using LinkExtractorTransformer\n",
    "\n",
    "`LinkExtractorTransformer` can further simplify the extraction."
   ]
  },
  {
   "cell_type": "code",
   "execution_count": 64,
   "id": "fEWymw4DZYdh",
   "metadata": {
    "colab": {
     "base_uri": "https://localhost:8080/"
    },
    "id": "fEWymw4DZYdh",
    "outputId": "e3e9f0c2-5300-4693-e23a-b9f8155b7533"
   },
   "outputs": [
    {
     "name": "stderr",
     "output_type": "stream",
     "text": [
      "Fetching pages: 100%|##########| 2/2 [00:00<00:00, 10.06it/s]\n"
     ]
    },
    {
     "data": {
      "text/plain": [
       "[Link(kind='hyperlink', direction='out', tag='https://python.langchain.com/v0.2/docs/integrations/providers/spreedly/'),\n",
       " Link(kind='hyperlink', direction='out', tag='https://python.langchain.com/v0.2/docs/integrations/providers/nvidia/'),\n",
       " Link(kind='hyperlink', direction='out', tag='https://python.langchain.com/v0.2/docs/integrations/providers/ray_serve/'),\n",
       " Link(kind='hyperlink', direction='out', tag='https://python.langchain.com/v0.2/docs/integrations/providers/llamacpp/'),\n",
       " Link(kind='hyperlink', direction='out', tag='https://python.langchain.com/v0.2/docs/integrations/providers/brave_search/'),\n",
       " Link(kind='hyperlink', direction='out', tag='https://smith.langchain.com'),\n",
       " Link(kind='hyperlink', direction='out', tag='https://python.langchain.com/v0.2/docs/integrations/chat/'),\n",
       " Link(kind='hyperlink', direction='out', tag='https://python.langchain.com/v0.2/docs/integrations/providers/bageldb/'),\n",
       " Link(kind='hyperlink', direction='out', tag='https://python.langchain.com/v0.2/docs/introduction/'),\n",
       " Link(kind='hyperlink', direction='out', tag='https://python.langchain.com/v0.2/docs/integrations/providers/snowflake/')]"
      ]
     },
     "execution_count": 64,
     "metadata": {},
     "output_type": "execute_result"
    }
   ],
   "source": [
    "from langchain_community.document_loaders import AsyncHtmlLoader\n",
    "from langchain_community.graph_vectorstores.extractors import (\n",
    "    HtmlLinkExtractor,\n",
    "    LinkExtractorTransformer,\n",
    ")\n",
    "from langchain_core.graph_vectorstores.links import add_links\n",
    "\n",
    "loader = AsyncHtmlLoader(\n",
    "    [\n",
    "        \"https://python.langchain.com/v0.2/docs/integrations/providers/astradb/\",\n",
    "        \"https://docs.datastax.com/en/astra/home/astra.html\",\n",
    "    ]\n",
    ")\n",
    "\n",
    "documents = loader.load()\n",
    "transformer = LinkExtractorTransformer([HtmlLinkExtractor().as_document_extractor()])\n",
    "documents = transformer.transform_documents(documents)\n",
    "\n",
    "documents[0].metadata[\"links\"][:10]"
   ]
  },
  {
   "cell_type": "markdown",
   "id": "MpKBeQcN863b",
   "metadata": {
    "id": "MpKBeQcN863b"
   },
   "source": [
    "We can check that there is a link from the first document to the second:"
   ]
  },
  {
   "cell_type": "code",
   "execution_count": 82,
   "id": "ORhELQ2p2PN6",
   "metadata": {
    "colab": {
     "base_uri": "https://localhost:8080/"
    },
    "id": "ORhELQ2p2PN6",
    "outputId": "f4c85545-ab09-49c0-de25-38a6fd40a22f"
   },
   "outputs": [
    {
     "name": "stdout",
     "output_type": "stream",
     "text": [
      "Found link from https://python.langchain.com/v0.2/docs/integrations/providers/astradb/ to https://python.langchain.com/v0.2/docs/integrations/providers/astradb/.\n"
     ]
    }
   ],
   "source": [
    "for doc_to in documents:\n",
    "    for link_to in doc_to.metadata[\"links\"]:\n",
    "        if link_to.direction == \"in\":\n",
    "            for doc_from in documents:\n",
    "                for link_from in doc_from.metadata[\"links\"]:\n",
    "                    if (\n",
    "                        link_to.direction == \"in\"\n",
    "                        and link_from.direction == \"out\"\n",
    "                        and link_to.tag == link_from.tag\n",
    "                    ):\n",
    "                        print(\n",
    "                            f\"Found link from {doc_from.metadata['source']} to {doc_from.metadata['source']}.\"\n",
    "                        )"
   ]
  }
 ],
 "metadata": {
  "colab": {
   "provenance": []
  },
  "kernelspec": {
   "display_name": "Python 3 (ipykernel)",
   "language": "python",
   "name": "python3"
  },
  "language_info": {
   "codemirror_mode": {
    "name": "ipython",
    "version": 3
   },
   "file_extension": ".py",
   "mimetype": "text/x-python",
   "name": "python",
   "nbconvert_exporter": "python",
   "pygments_lexer": "ipython3",
   "version": "3.10.4"
  }
 },
 "nbformat": 4,
 "nbformat_minor": 5
}
